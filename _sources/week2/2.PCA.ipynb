{
 "cells": [
  {
   "cell_type": "markdown",
   "id": "b38b422f-b086-428f-aee6-1b1ee1f31cdf",
   "metadata": {},
   "source": [
    "## What is Principal Component Analysis?\n",
    "- statistical procedure that uses an orthogonal transformation that converts a set of correlated variables to a set of uncorrelated variables.PCA is the most widely used tool in exploratory data analysis and in machine learning for predictive models.\n",
    "- Underlying assumptions : data must be linear\n",
    "- Causes overfitting\n",
    "- Information loss\n",
    "- Sensitive to data scaling\n",
    "- Hard interpretation since the data conversion\n",
    "\n",
    "\n",
    "### 1. PCA Usage\n",
    "- is an unsupervised learning algorithm technique used to examine the interrelations among a set of variables. It is also known as a general factor analysis where regression determines a line of best fit.\n",
    "- to reduce the dimensionality of a dataset while preserving the most important patterns or relationships between the variables without any prior knowledge of the target variables.\n",
    "- data visualization, feature selection, data compression\n",
    "- Noise Reduction and colinearity\n",
    "- Outlier detection\n",
    "### 2. Math Procedure\n",
    "1) Standardize dataset (mu = 1 sd = 0)\n",
    "- Center the Data Mean Subtraction: Start by subtracting the mean of each feature from the data. This centers the data around the origin, making it easier to identify the directions of maximum variance.\n",
    "-   $ Z = \\frac{X-\\mu}{\\sigma} $\n",
    "2) Covariance to find variability : cov(x1,x2) = $ \\frac{\\sum_{i=1}^{n}(x1_i-x1)(x2_i-x2)}{n-1} $\n",
    "3) Compute Eigenvalues an Eigenvectors\n",
    "- The directions of maximum variance (principal components) are found by calculating the eigenvectors (directions) and eigenvalues (amount of variance in those directions) of the covariance matrix.\n",
    "- nxn matrix (square) and X be non-zero vector\n",
    "- AX = $\\lambda $ X\n",
    "- (A-$\\lambda I$)X = 0\n",
    "- |A-$\\lambda I$| = 0\n",
    "\n",
    "4) Choose the Top Components\n",
    "- Sort the eigenvalues in descending order, and choose the top ones. The corresponding eigenvectors are the directions that capture the most variance.\n",
    "Dimensionality Reduction: Use these top principal components to transform your data into a new, lower-dimensional space.\n",
    "\n",
    "5) Transform the Data\n",
    "- Project Data: Finally, project your original data onto the selected principal components. This gives you a new dataset with fewer dimensions, where each dimension is a linear combination of the original features. \n",
    "<div>\n",
    "<img src=\"pca.png\" width=\"700\">\n",
    "</div>\n",
    "\n",
    "\n",
    "\n",
    "- Reference Link : https://www.geeksforgeeks.org/principal-component-analysis-pca/"
   ]
  },
  {
   "cell_type": "code",
   "execution_count": 7,
   "id": "f27aed3a-8a11-484a-831a-b6aaa4fa0373",
   "metadata": {},
   "outputs": [],
   "source": [
    "from ucimlrepo import fetch_ucirepo \n",
    "  \n",
    "# fetch dataset \n",
    "iris = fetch_ucirepo(id=53)['data']['original']\n",
    "  \n",
    "# data (as pandas dataframes) \n",
    "X = iris[[i for i in iris.columns if i not in ['class']]]\n",
    "y = iris['class']"
   ]
  },
  {
   "cell_type": "code",
   "execution_count": 8,
   "id": "3503bd4f-0727-4010-8c03-4b9d161d7ace",
   "metadata": {},
   "outputs": [],
   "source": [
    "import pandas as pd\n",
    "import numpy as np"
   ]
  },
  {
   "cell_type": "code",
   "execution_count": 9,
   "id": "4d8e31c6-d787-4030-89a8-7d066a2a348a",
   "metadata": {},
   "outputs": [],
   "source": [
    "# Mean\n",
    "X_mean = X.mean()\n",
    "\n",
    "# Standard deviation\n",
    "X_std = X.std()\n",
    "\n",
    "# Standardization\n",
    "Z = (X - X_mean) / X_std"
   ]
  },
  {
   "cell_type": "code",
   "execution_count": 11,
   "id": "7927f941-732c-403d-9526-b6c1a19409ff",
   "metadata": {},
   "outputs": [
    {
     "data": {
      "image/png": "[encoded data removed]",
      "text/plain": [
       "<Figure size 640x480 with 2 Axes>"
      ]
     },
     "metadata": {},
     "output_type": "display_data"
    }
   ],
   "source": [
    "# covariance\n",
    "c = Z.cov()\n",
    "\n",
    "# Plot the covariance matrix\n",
    "import matplotlib.pyplot as plt\n",
    "import seaborn as sns\n",
    "sns.heatmap(c)\n",
    "plt.show()"
   ]
  },
  {
   "cell_type": "code",
   "execution_count": 12,
   "id": "95fa2f05-5eb4-4a04-a4e1-ebcb449d4ba1",
   "metadata": {},
   "outputs": [
    {
     "name": "stdout",
     "output_type": "stream",
     "text": [
      "Eigen values:\n",
      " [2.91081808 0.92122093 0.14735328 0.02060771]\n",
      "Eigen values Shape: (4,)\n",
      "Eigen Vector Shape: (4, 4)\n"
     ]
    }
   ],
   "source": [
    "eigenvalues, eigenvectors = np.linalg.eig(c)\n",
    "print('Eigen values:\\n', eigenvalues)\n",
    "print('Eigen values Shape:', eigenvalues.shape)\n",
    "print('Eigen Vector Shape:', eigenvectors.shape)"
   ]
  },
  {
   "cell_type": "code",
   "execution_count": 14,
   "id": "ea7c156a-157c-4e13-96dc-8c72421762ef",
   "metadata": {},
   "outputs": [
    {
     "data": {
      "text/plain": [
       "array([0.72770452, 0.95800975, 0.99484807, 1.        ])"
      ]
     },
     "execution_count": 14,
     "metadata": {},
     "output_type": "execute_result"
    }
   ],
   "source": [
    "explained_var = np.cumsum(eigenvalues) / np.sum(eigenvalues)\n",
    "explained_var"
   ]
  },
  {
   "cell_type": "code",
   "execution_count": 22,
   "id": "5ffa4696-0324-4834-b1ff-25fa5afde9ee",
   "metadata": {},
   "outputs": [
    {
     "data": {
      "text/plain": [
       "2"
      ]
     },
     "execution_count": 22,
     "metadata": {},
     "output_type": "execute_result"
    }
   ],
   "source": [
    "n_components = np.argmax(explained_var >= 0.90) + 1\n",
    "n_components"
   ]
  },
  {
   "cell_type": "code",
   "execution_count": 23,
   "id": "88d781d8-5d76-44fb-afd4-f98c23d70593",
   "metadata": {},
   "outputs": [
    {
     "data": {
      "text/plain": [
       "array([[ 0.52237162, -0.37231836, -0.72101681,  0.26199559],\n",
       "       [-0.26335492, -0.92555649,  0.24203288, -0.12413481],\n",
       "       [ 0.58125401, -0.02109478,  0.14089226, -0.80115427],\n",
       "       [ 0.56561105, -0.06541577,  0.6338014 ,  0.52354627]])"
      ]
     },
     "execution_count": 23,
     "metadata": {},
     "output_type": "execute_result"
    }
   ],
   "source": [
    "eigenvectors"
   ]
  },
  {
   "cell_type": "code",
   "execution_count": 27,
   "id": "a5e6e7e7-60b0-48b1-8ad3-c94270791da4",
   "metadata": {},
   "outputs": [
    {
     "data": {
      "text/plain": [
       "array([[ 0.52237162, -0.37231836],\n",
       "       [-0.26335492, -0.92555649],\n",
       "       [ 0.58125401, -0.02109478],\n",
       "       [ 0.56561105, -0.06541577]])"
      ]
     },
     "execution_count": 27,
     "metadata": {},
     "output_type": "execute_result"
    }
   ],
   "source": [
    "u"
   ]
  },
  {
   "cell_type": "code",
   "execution_count": 37,
   "id": "f764128c-44e9-438e-95d4-2fce3937066e",
   "metadata": {},
   "outputs": [
    {
     "data": {
      "image/png": "[encoded data removed]",
      "text/plain": [
       "<Figure size 500x700 with 2 Axes>"
      ]
     },
     "metadata": {},
     "output_type": "display_data"
    }
   ],
   "source": [
    "# PCA component or unit matrix\n",
    "u = eigenvectors[:,:n_components+1]\n",
    "pca_component = pd.DataFrame(u,\n",
    "                             index = X.columns,\n",
    "                             columns = ['PC1','PC2','PC3']\n",
    "                            )\n",
    "\n",
    "# plotting heatmap\n",
    "plt.figure(figsize =(5, 7))\n",
    "sns.heatmap(pca_component)\n",
    "plt.title('PCA Component')\n",
    "plt.show()"
   ]
  },
  {
   "cell_type": "code",
   "execution_count": 38,
   "id": "2976205b-3b90-4f51-952c-23f91c810aba",
   "metadata": {},
   "outputs": [
    {
     "name": "stdout",
     "output_type": "stream",
     "text": [
      "         PCA1      PCA2       PC3\n",
      "0   -2.256981 -0.504015 -0.121536\n",
      "1   -2.079459  0.653216 -0.226492\n",
      "2   -2.360044  0.317414  0.051308\n",
      "3   -2.296504  0.573447  0.098530\n",
      "4   -2.380802 -0.672514  0.021356\n",
      "..        ...       ...       ...\n",
      "145  1.864277 -0.381544  0.253682\n",
      "146  1.553288  0.902291 -0.025297\n",
      "147  1.515767 -0.265904  0.178679\n",
      "148  1.371796 -1.012968  0.928295\n",
      "149  0.956096  0.022210  0.527029\n",
      "\n",
      "[150 rows x 3 columns]\n"
     ]
    }
   ],
   "source": [
    "# Matrix multiplication or dot Product\n",
    "Z_pca = Z @ pca_component\n",
    "# Rename the columns name\n",
    "Z_pca.rename({'PC1': 'PCA1', 'PC2': 'PCA2'}, axis=1, inplace=True)\n",
    "# Print the  Pricipal Component values\n",
    "print(Z_pca)"
   ]
  },
  {
   "cell_type": "code",
   "execution_count": 39,
   "id": "85a455c9-ce5b-464d-af65-ea586c56613d",
   "metadata": {},
   "outputs": [
    {
     "data": {
      "text/html": [
       "<div>\n",
       "<style scoped>\n",
       "    .dataframe tbody tr th:only-of-type {\n",
       "        vertical-align: middle;\n",
       "    }\n",
       "\n",
       "    .dataframe tbody tr th {\n",
       "        vertical-align: top;\n",
       "    }\n",
       "\n",
       "    .dataframe thead th {\n",
       "        text-align: right;\n",
       "    }\n",
       "</style>\n",
       "<table border=\"1\" class=\"dataframe\">\n",
       "  <thead>\n",
       "    <tr style=\"text-align: right;\">\n",
       "      <th></th>\n",
       "      <th>PC1</th>\n",
       "      <th>PC2</th>\n",
       "      <th>PC3</th>\n",
       "    </tr>\n",
       "  </thead>\n",
       "  <tbody>\n",
       "    <tr>\n",
       "      <th>sepal length</th>\n",
       "      <td>0.522372</td>\n",
       "      <td>-0.372318</td>\n",
       "      <td>-0.721017</td>\n",
       "    </tr>\n",
       "    <tr>\n",
       "      <th>sepal width</th>\n",
       "      <td>-0.263355</td>\n",
       "      <td>-0.925556</td>\n",
       "      <td>0.242033</td>\n",
       "    </tr>\n",
       "    <tr>\n",
       "      <th>petal length</th>\n",
       "      <td>0.581254</td>\n",
       "      <td>-0.021095</td>\n",
       "      <td>0.140892</td>\n",
       "    </tr>\n",
       "    <tr>\n",
       "      <th>petal width</th>\n",
       "      <td>0.565611</td>\n",
       "      <td>-0.065416</td>\n",
       "      <td>0.633801</td>\n",
       "    </tr>\n",
       "  </tbody>\n",
       "</table>\n",
       "</div>"
      ],
      "text/plain": [
       "                   PC1       PC2       PC3\n",
       "sepal length  0.522372 -0.372318 -0.721017\n",
       "sepal width  -0.263355 -0.925556  0.242033\n",
       "petal length  0.581254 -0.021095  0.140892\n",
       "petal width   0.565611 -0.065416  0.633801"
      ]
     },
     "execution_count": 39,
     "metadata": {},
     "output_type": "execute_result"
    }
   ],
   "source": [
    "pca_component"
   ]
  }
 ],
 "metadata": {
  "kernelspec": {
   "display_name": "Python 3 (ipykernel)",
   "language": "python",
   "name": "python3"
  },
  "language_info": {
   "codemirror_mode": {
    "name": "ipython",
    "version": 3
   },
   "file_extension": ".py",
   "mimetype": "text/x-python",
   "name": "python",
   "nbconvert_exporter": "python",
   "pygments_lexer": "ipython3",
   "version": "3.9.19"
  }
 },
 "nbformat": 4,
 "nbformat_minor": 5
}

{
 "cells": [
  {
   "cell_type": "markdown",
   "id": "eebb8c74-8622-4d0e-81f1-fb6948b8acc4",
   "metadata": {},
   "source": [
    "## What is Naive Bayes Classifier?\n",
    "- Naive Bayes Classifier is an algorythm based on Bayes' theorem. The term naive assumes that the features are conditionally independent.\n",
    "- Bayes' theorem is $ P(A|B) = \\frac{P(A \\cap B)}{P(B)} =  \\frac{P(B|A) * P(A)}{P(B)} $ where P(A|B) is conditional probability - probability of A after B happens.\n",
    "- Each feature is equally important due to multiplication of each feature in likelihood.\n",
    "### 1. Naive Bayes classifier \n",
    "1) The basic foundation is from this equation : <br>\n",
    "- Naive Bayes uses $ P(A|B) -> Posterior = \\frac{likelihood * prior}{evidence} $\n",
    "<br>\n",
    "- Posterior is our target.\n",
    "<br>\n",
    "- Likelihood is P(B|A).\n",
    "<br>\n",
    "- Evidence(marginal) is P(B).\n",
    "<br>\n",
    "\n",
    "\n",
    "\n",
    "##### Reference Link : https://www.geeksforgeeks.org/naive-bayes-classifiers/"
   ]
  },
  {
   "cell_type": "markdown",
   "id": "bdede3fb-5914-4bf8-b486-ebc1e8e23286",
   "metadata": {},
   "source": [
    "### 2. Mathematical process\n",
    "1) Classification: <br>\n",
    "\n",
    "-  $ P(y \\mid x_{i}) = \\frac{P(x_{i} \\mid y) * P(y)}{P(x_{i})} $\n",
    "-  $ P(y \\mid x_{1}, ... , x_{n}) = \\frac{\n",
    "P(x_{1} \\mid y) * P(x_{2} \\mid y) * ... * P(x_{n} \\mid y) * P(y)\n",
    "}\n",
    "{\n",
    "P(x_{1})P(x_{2})...P(x_{n})\n",
    "} $\n",
    "- $ = \n",
    "\\frac{\n",
    "P(y) \\prod_{1}^{n} P(x_i \\mid y)\n",
    "}\n",
    "{\n",
    "\\prod_{1}^{n} P(x_{i})\n",
    "}\n",
    "$\n",
    "\n",
    "- Because the denominator is given in the dataset P(x), we can treat this as constant.\n",
    "- $ y = argmax_{y} P(y) \\prod_{1}^{n} P(x_i \\mid y) $\n",
    "\n",
    "\n",
    "  3) $ P(x_{i}\\mid y) = \\frac{1}{\\sqrt{2\\pi \\sigma_y^{2}}} \\exp \\left(-\\frac{(x_{i} -\\mu_{y})^2}{2\\sigma_y^{2}} \\right) $\n"
   ]
  },
  {
   "cell_type": "code",
   "execution_count": 1,
   "id": "d10f6f96-750b-4b09-83ea-a5369ac980e8",
   "metadata": {},
   "outputs": [
    {
     "name": "stdout",
     "output_type": "stream",
     "text": [
      "Requirement already satisfied: ucimlrepo in /Users/tchun/opt/anaconda3/envs/carparts/lib/python3.9/site-packages (0.0.7)\n",
      "Requirement already satisfied: pandas>=1.0.0 in /Users/tchun/opt/anaconda3/envs/carparts/lib/python3.9/site-packages (from ucimlrepo) (2.2.2)\n",
      "Requirement already satisfied: certifi>=2020.12.5 in /Users/tchun/opt/anaconda3/envs/carparts/lib/python3.9/site-packages (from ucimlrepo) (2021.10.8)\n",
      "Requirement already satisfied: numpy>=1.22.4 in /Users/tchun/opt/anaconda3/envs/carparts/lib/python3.9/site-packages (from pandas>=1.0.0->ucimlrepo) (1.26.4)\n",
      "Requirement already satisfied: python-dateutil>=2.8.2 in /Users/tchun/opt/anaconda3/envs/carparts/lib/python3.9/site-packages (from pandas>=1.0.0->ucimlrepo) (2.8.2)\n",
      "Requirement already satisfied: pytz>=2020.1 in /Users/tchun/opt/anaconda3/envs/carparts/lib/python3.9/site-packages (from pandas>=1.0.0->ucimlrepo) (2023.3.post1)\n",
      "Requirement already satisfied: tzdata>=2022.7 in /Users/tchun/opt/anaconda3/envs/carparts/lib/python3.9/site-packages (from pandas>=1.0.0->ucimlrepo) (2024.1)\n",
      "Requirement already satisfied: six>=1.5 in /Users/tchun/opt/anaconda3/envs/carparts/lib/python3.9/site-packages (from python-dateutil>=2.8.2->pandas>=1.0.0->ucimlrepo) (1.16.0)\n",
      "\u001b[33mDEPRECATION: pyodbc 4.0.0-unsupported has a non-standard version number. pip 24.0 will enforce this behaviour change. A possible replacement is to upgrade to a newer version of pyodbc or contact the author to suggest that they release a version with a conforming version number. Discussion can be found at https://github.com/pypa/pip/issues/12063\u001b[0m\u001b[33m\n",
      "\u001b[0mNote: you may need to restart the kernel to use updated packages.\n"
     ]
    }
   ],
   "source": [
    "%pip install ucimlrepo"
   ]
  },
  {
   "cell_type": "code",
   "execution_count": 6,
   "id": "13a882bc-7146-4c2e-85c4-7eddd70a526f",
   "metadata": {},
   "outputs": [],
   "source": [
    "from ucimlrepo import fetch_ucirepo \n",
    "  \n",
    "# fetch dataset \n",
    "iris = fetch_ucirepo(id=53)['data']['original']\n",
    "  \n",
    "# data (as pandas dataframes) \n",
    "X = iris[[i for i in iris.columns if i not in ['class']]]\n",
    "y = iris['class']\n"
   ]
  },
  {
   "cell_type": "code",
   "execution_count": 7,
   "id": "519871bd-eccc-41d6-b85a-960e28817c69",
   "metadata": {},
   "outputs": [
    {
     "data": {
      "text/html": [
       "<div>\n",
       "<style scoped>\n",
       "    .dataframe tbody tr th:only-of-type {\n",
       "        vertical-align: middle;\n",
       "    }\n",
       "\n",
       "    .dataframe tbody tr th {\n",
       "        vertical-align: top;\n",
       "    }\n",
       "\n",
       "    .dataframe thead th {\n",
       "        text-align: right;\n",
       "    }\n",
       "</style>\n",
       "<table border=\"1\" class=\"dataframe\">\n",
       "  <thead>\n",
       "    <tr style=\"text-align: right;\">\n",
       "      <th></th>\n",
       "      <th>sepal length</th>\n",
       "      <th>sepal width</th>\n",
       "      <th>petal length</th>\n",
       "      <th>petal width</th>\n",
       "      <th>class</th>\n",
       "    </tr>\n",
       "  </thead>\n",
       "  <tbody>\n",
       "    <tr>\n",
       "      <th>0</th>\n",
       "      <td>5.1</td>\n",
       "      <td>3.5</td>\n",
       "      <td>1.4</td>\n",
       "      <td>0.2</td>\n",
       "      <td>Iris-setosa</td>\n",
       "    </tr>\n",
       "    <tr>\n",
       "      <th>1</th>\n",
       "      <td>4.9</td>\n",
       "      <td>3.0</td>\n",
       "      <td>1.4</td>\n",
       "      <td>0.2</td>\n",
       "      <td>Iris-setosa</td>\n",
       "    </tr>\n",
       "    <tr>\n",
       "      <th>2</th>\n",
       "      <td>4.7</td>\n",
       "      <td>3.2</td>\n",
       "      <td>1.3</td>\n",
       "      <td>0.2</td>\n",
       "      <td>Iris-setosa</td>\n",
       "    </tr>\n",
       "    <tr>\n",
       "      <th>3</th>\n",
       "      <td>4.6</td>\n",
       "      <td>3.1</td>\n",
       "      <td>1.5</td>\n",
       "      <td>0.2</td>\n",
       "      <td>Iris-setosa</td>\n",
       "    </tr>\n",
       "    <tr>\n",
       "      <th>4</th>\n",
       "      <td>5.0</td>\n",
       "      <td>3.6</td>\n",
       "      <td>1.4</td>\n",
       "      <td>0.2</td>\n",
       "      <td>Iris-setosa</td>\n",
       "    </tr>\n",
       "  </tbody>\n",
       "</table>\n",
       "</div>"
      ],
      "text/plain": [
       "   sepal length  sepal width  petal length  petal width        class\n",
       "0           5.1          3.5           1.4          0.2  Iris-setosa\n",
       "1           4.9          3.0           1.4          0.2  Iris-setosa\n",
       "2           4.7          3.2           1.3          0.2  Iris-setosa\n",
       "3           4.6          3.1           1.5          0.2  Iris-setosa\n",
       "4           5.0          3.6           1.4          0.2  Iris-setosa"
      ]
     },
     "execution_count": 7,
     "metadata": {},
     "output_type": "execute_result"
    }
   ],
   "source": [
    "iris.head(5)\n"
   ]
  },
  {
   "cell_type": "code",
   "execution_count": 16,
   "id": "e2994090-6b49-4ddc-b627-a632c4c3b00d",
   "metadata": {},
   "outputs": [
    {
     "data": {
      "text/plain": [
       "class\n",
       "Iris-setosa        50\n",
       "Iris-versicolor    50\n",
       "Iris-virginica     50\n",
       "Name: class, dtype: int64"
      ]
     },
     "execution_count": 16,
     "metadata": {},
     "output_type": "execute_result"
    }
   ],
   "source": [
    "iris.groupby('class')['class'].count()"
   ]
  },
  {
   "cell_type": "markdown",
   "id": "24488131-6922-4db8-894c-cb51e957d98e",
   "metadata": {},
   "source": [
    "### We can check their distribution by boxplot and histogram of each class to see if they are normally distributed."
   ]
  },
  {
   "cell_type": "code",
   "execution_count": 17,
   "id": "411b78fb-c024-4d7f-8184-61061a2f2ecc",
   "metadata": {},
   "outputs": [
    {
     "data": {
      "text/plain": [
       "<AxesSubplot: >"
      ]
     },
     "execution_count": 17,
     "metadata": {},
     "output_type": "execute_result"
    },
    {
     "data": {
      "image/png": "[encoded data removed]",
      "text/plain": [
       "<Figure size 640x480 with 1 Axes>"
      ]
     },
     "metadata": {},
     "output_type": "display_data"
    }
   ],
   "source": [
    "iris.boxplot()"
   ]
  },
  {
   "cell_type": "code",
   "execution_count": 35,
   "id": "3790b034-8494-482e-9f3e-21e8d38bc12f",
   "metadata": {},
   "outputs": [],
   "source": [
    "# import matplotlib.pyplot as plt\n",
    "# iris.plot.hist(column='sepal length',by='class',bins=5)\n",
    "# plt.show()\n",
    "\n",
    "# iris.plot.hist(column='sepal width',by='class',bins=5)\n",
    "# plt.show()\n",
    "\n",
    "# iris.plot.hist(column='petal length',by='class',bins=5)\n",
    "# plt.show()\n",
    "\n",
    "# iris.plot.hist(column='petal width',by='class',bins=5)\n",
    "# plt.show()"
   ]
  },
  {
   "cell_type": "code",
   "execution_count": 36,
   "id": "85153999-0ed5-4e77-8d61-e33451d43e46",
   "metadata": {
    "scrolled": true
   },
   "outputs": [
    {
     "data": {
      "text/plain": [
       "<AxesSubplot: >"
      ]
     },
     "execution_count": 36,
     "metadata": {},
     "output_type": "execute_result"
    },
    {
     "data": {
      "image/png": "[encoded data removed]",
      "text/plain": [
       "<Figure size 640x480 with 2 Axes>"
      ]
     },
     "metadata": {},
     "output_type": "display_data"
    }
   ],
   "source": [
    "import seaborn as sns\n",
    "%matplotlib inline\n",
    "\n",
    "#petal - 꽃잎 corolla of a flower\n",
    "#sepal - 꽃받침 thing that encloses the petals and typically green and leaflike\n",
    "\n",
    "# calculate the correlation matrix on the numeric columns\n",
    "corr = X.corr()\n",
    "\n",
    "# plot the heatmap\n",
    "sns.heatmap(corr)"
   ]
  },
  {
   "cell_type": "markdown",
   "id": "30d9907a-96d0-4c6e-835d-e5c24b337451",
   "metadata": {},
   "source": [
    "Let's bring the equation for continous variables\n",
    "$ P(x_{i}\\mid y) = \\frac{1}{\\sqrt{2\\pi \\sigma_y^{2}}} \\exp \\left(-\\frac{(x_{i} -\\mu_{y})^2}{2\\sigma_y^{2}} \\right) $"
   ]
  },
  {
   "cell_type": "markdown",
   "id": "559eee5d-752a-40f3-a5ee-cdd2ae74d960",
   "metadata": {},
   "source": [
    "We can break the formula by each feature in our model. <br>\n",
    "$ P(x_{i}\\mid y) = argmax_{j=1}^{m}(P(x_{Iris-setosa}\\mid y_j),P(x_{Iris-versicolor}\\mid y_j),P(x_{Iris-virginica}\\mid y_j)) $\n",
    "\n",
    "- The above formula seems a bit tricky without breaking apart into details. We can look at the detail for one class at a feature level.\n",
    "\n",
    "### Likelihood P(x|y) <br>\n",
    "We can simply get likelihood of being first class using the below equation. <br>\n",
    "$ P(x_i|y=class1) = \\prod_{i=1}^{n} \\frac{1}{\\sqrt{2\\pi \\sigma_y^{2}}} \\exp \\left(-\\frac{(x_{i} -\\mu_{y})^2}{2\\sigma_y^{2}} \\right) $ <br>\n",
    "$ = \\prod_{i=1}^{n} P(x_{i}|y_{1}) $ <br>\n",
    "Here, the likelihood of each feature means where this data point falls under the normal distribution with the given mean and std from the dataset.<br>\n",
    "One of our assumption is our features are conditionally independent given the target class.<br>\n",
    "Therefore, we are allowed to multiply each likelihood of feature to get the probablity of being that data point with all features for a class. <br>\n",
    "So our final likelihood will be following: <br>\n",
    "$ argmax_{j=1}^{m} (\\prod_{i=1}^{n} P(x_i|y=class_j)) $\n",
    "\n",
    "### Evidence P(x) <br>\n",
    "$ P(x) = \\sum_{j=1}^{m} P(x|y=j)P(y=j) $ <br>\n",
    "This is because we cannot get P(x) by taking the proportion to the entire dataset. Proportion sounds it is relying on empirical estimate. However, you are not assuming anything under a certain distribution which can also lead a bais because, for continous variable, you may have something close to values in each feature, but you are relying on proportions and may not have any values that are matching. In this case, you P(x) will be very small and lead to a too rough estimate.\n",
    "\n",
    "### Posterior P(y|x) <Br>\n",
    "This is our final probability for classification problem. <br>\n",
    "It can be derived using finally Likelihood and Evidence from the above. <br>\n",
    "$ P(y|x) = \\frac{P(x|y)*p(y)}{p(x)} $\n",
    "\n",
    "### Practice : \n",
    "Let's get to the details how we can calculate with our dataset."
   ]
  },
  {
   "cell_type": "code",
   "execution_count": 67,
   "id": "7b7f3d96-4f2a-426e-ab71-e0367a97e5c3",
   "metadata": {},
   "outputs": [],
   "source": [
    "import math\n",
    "def get_p_given_y(x_i:float,mu_y:float,std_y:float):\n",
    "    p_x_y = (\n",
    "        (1/math.sqrt(2*math.pi**2)) \n",
    "        * \n",
    "        math.exp(\n",
    "            -((x_i - mu_y)**2)/(2*std_y**2)\n",
    "        )\n",
    "    )\n",
    "    return p_x_y\n",
    "\n",
    "\n"
   ]
  },
  {
   "cell_type": "code",
   "execution_count": 68,
   "id": "8c8af891-f053-42b5-92b5-b24228dfb735",
   "metadata": {},
   "outputs": [
    {
     "data": {
      "text/html": [
       "<div>\n",
       "<style scoped>\n",
       "    .dataframe tbody tr th:only-of-type {\n",
       "        vertical-align: middle;\n",
       "    }\n",
       "\n",
       "    .dataframe tbody tr th {\n",
       "        vertical-align: top;\n",
       "    }\n",
       "\n",
       "    .dataframe thead tr th {\n",
       "        text-align: left;\n",
       "    }\n",
       "</style>\n",
       "<table border=\"1\" class=\"dataframe\">\n",
       "  <thead>\n",
       "    <tr>\n",
       "      <th></th>\n",
       "      <th>class</th>\n",
       "      <th colspan=\"2\" halign=\"left\">sepal length</th>\n",
       "      <th colspan=\"2\" halign=\"left\">sepal width</th>\n",
       "      <th colspan=\"2\" halign=\"left\">petal length</th>\n",
       "      <th colspan=\"2\" halign=\"left\">petal width</th>\n",
       "    </tr>\n",
       "    <tr>\n",
       "      <th></th>\n",
       "      <th></th>\n",
       "      <th>mean</th>\n",
       "      <th>std</th>\n",
       "      <th>mean</th>\n",
       "      <th>std</th>\n",
       "      <th>mean</th>\n",
       "      <th>std</th>\n",
       "      <th>mean</th>\n",
       "      <th>std</th>\n",
       "    </tr>\n",
       "  </thead>\n",
       "  <tbody>\n",
       "    <tr>\n",
       "      <th>0</th>\n",
       "      <td>Iris-setosa</td>\n",
       "      <td>5.006</td>\n",
       "      <td>0.352490</td>\n",
       "      <td>3.418</td>\n",
       "      <td>0.381024</td>\n",
       "      <td>1.464</td>\n",
       "      <td>0.173511</td>\n",
       "      <td>0.244</td>\n",
       "      <td>0.107210</td>\n",
       "    </tr>\n",
       "    <tr>\n",
       "      <th>1</th>\n",
       "      <td>Iris-versicolor</td>\n",
       "      <td>5.936</td>\n",
       "      <td>0.516171</td>\n",
       "      <td>2.770</td>\n",
       "      <td>0.313798</td>\n",
       "      <td>4.260</td>\n",
       "      <td>0.469911</td>\n",
       "      <td>1.326</td>\n",
       "      <td>0.197753</td>\n",
       "    </tr>\n",
       "    <tr>\n",
       "      <th>2</th>\n",
       "      <td>Iris-virginica</td>\n",
       "      <td>6.588</td>\n",
       "      <td>0.635880</td>\n",
       "      <td>2.974</td>\n",
       "      <td>0.322497</td>\n",
       "      <td>5.552</td>\n",
       "      <td>0.551895</td>\n",
       "      <td>2.026</td>\n",
       "      <td>0.274650</td>\n",
       "    </tr>\n",
       "  </tbody>\n",
       "</table>\n",
       "</div>"
      ],
      "text/plain": [
       "             class sepal length           sepal width           petal length  \\\n",
       "                           mean       std        mean       std         mean   \n",
       "0      Iris-setosa        5.006  0.352490       3.418  0.381024        1.464   \n",
       "1  Iris-versicolor        5.936  0.516171       2.770  0.313798        4.260   \n",
       "2   Iris-virginica        6.588  0.635880       2.974  0.322497        5.552   \n",
       "\n",
       "            petal width            \n",
       "        std        mean       std  \n",
       "0  0.173511       0.244  0.107210  \n",
       "1  0.469911       1.326  0.197753  \n",
       "2  0.551895       2.026  0.274650  "
      ]
     },
     "execution_count": 68,
     "metadata": {},
     "output_type": "execute_result"
    }
   ],
   "source": [
    "iris.groupby(['class']).agg(['mean','std']).reset_index()"
   ]
  },
  {
   "cell_type": "code",
   "execution_count": 69,
   "id": "b7e352b1-0f1d-48a8-9221-ee20568498dc",
   "metadata": {},
   "outputs": [
    {
     "name": "stdout",
     "output_type": "stream",
     "text": [
      "0.2250464741615915\n",
      "4.064118694051635e-05\n",
      "1.4767578447297364e-91\n"
     ]
    }
   ],
   "source": [
    "# example\n",
    "print(get_p_given_y(x_i=5,mu_y=5.006,std_y=0.352490))\n",
    "print(get_p_given_y(x_i=5,mu_y=3.418,std_y=0.381024))\n",
    "print(get_p_given_y(x_i=5,mu_y=1.464,std_y=0.173511))"
   ]
  },
  {
   "cell_type": "code",
   "execution_count": 70,
   "id": "aa103fa2-5260-4f07-b1aa-978fa76e2abf",
   "metadata": {},
   "outputs": [
    {
     "data": {
      "text/plain": [
       "class\n",
       "Iris-setosa        0.333333\n",
       "Iris-versicolor    0.333333\n",
       "Iris-virginica     0.333333\n",
       "Name: class, dtype: float64"
      ]
     },
     "execution_count": 70,
     "metadata": {},
     "output_type": "execute_result"
    }
   ],
   "source": [
    "(iris.groupby('class')['class'].count()/iris.shape[0])"
   ]
  },
  {
   "cell_type": "code",
   "execution_count": 73,
   "id": "ce48b616-e097-4883-96e9-865129e41179",
   "metadata": {},
   "outputs": [
    {
     "data": {
      "text/plain": [
       "[5.006, 5.936, 6.587999999999999]"
      ]
     },
     "execution_count": 73,
     "metadata": {},
     "output_type": "execute_result"
    }
   ],
   "source": [
    "dict_mean_std = iris.groupby(['class']).agg(['mean','std']).to_dict('list')\n",
    "dict_mean_std[('sepal length','mean')] # setosa,versicolor, virginica respectively"
   ]
  },
  {
   "cell_type": "code",
   "execution_count": 97,
   "id": "06398567-6205-4659-af10-d2376461ecab",
   "metadata": {},
   "outputs": [
    {
     "data": {
      "text/plain": [
       "[5.1, 3.5, 1.4, 0.2]"
      ]
     },
     "execution_count": 97,
     "metadata": {},
     "output_type": "execute_result"
    }
   ],
   "source": [
    "x_1=X.head(1).T[0].to_list()\n",
    "x_1 # sl, sw, pl, pw"
   ]
  },
  {
   "cell_type": "code",
   "execution_count": 98,
   "id": "0eae575c-6896-47ae-9b38-ec2c2893d48c",
   "metadata": {},
   "outputs": [
    {
     "name": "stdout",
     "output_type": "stream",
     "text": [
      "0.21721641631618133 0.21992669318778105 0.21027701331611803 0.20689947615081528\n"
     ]
    },
    {
     "data": {
      "text/plain": [
       "0.002078364805229067"
      ]
     },
     "execution_count": 98,
     "metadata": {},
     "output_type": "execute_result"
    }
   ],
   "source": [
    "# How to calculate likelihood\n",
    "p_x1_sl_setosa = get_p_given_y(x_i = x_1[0], mu_y = dict_mean_std[('sepal length','mean')][0], std_y = dict_mean_std[('sepal length','std')][0])\n",
    "p_x1_sw_setosa = get_p_given_y(x_i = x_1[1], mu_y = dict_mean_std[('sepal width','mean')][0], std_y = dict_mean_std[('sepal width','std')][0])\n",
    "p_x1_pl_setosa = get_p_given_y(x_i = x_1[2], mu_y = dict_mean_std[('petal length','mean')][0], std_y = dict_mean_std[('petal length','std')][0])\n",
    "p_x1_pw_setosa = get_p_given_y(x_i = x_1[3], mu_y = dict_mean_std[('petal width','mean')][0], std_y = dict_mean_std[('petal width','std')][0])\n",
    "\n",
    "print(p_x1_sl_setosa,p_x1_sw_setosa,p_x1_pl_setosa,p_x1_pw_setosa)\n",
    "p_x1_setosa = p_x1_sl_setosa * p_x1_sw_setosa * p_x1_pl_setosa * p_x1_pw_setosa\n",
    "\n",
    "p_x1_setosa\n",
    "\n",
    "#Repeat this for other classes"
   ]
  },
  {
   "cell_type": "code",
   "execution_count": null,
   "id": "9de9bed6-732a-45c7-869a-e7d953fa5fa9",
   "metadata": {},
   "outputs": [],
   "source": [
    "x_1=X.head(1).T[0].to_list()\n",
    "x_1 # sl, sw, pl, pw"
   ]
  },
  {
   "cell_type": "code",
   "execution_count": 104,
   "id": "73724395-b8ea-40fd-af6f-65b0f7272dd9",
   "metadata": {},
   "outputs": [
    {
     "data": {
      "text/plain": [
       "[0.002078364805229067, 3.8076215296648023e-20, 5.676987908056648e-27]"
      ]
     },
     "execution_count": 104,
     "metadata": {},
     "output_type": "execute_result"
    }
   ],
   "source": [
    "p_x1_likelihood_list = []\n",
    "for i in range(3):\n",
    "    # How to calculate likelihood\n",
    "    p_x1_sl_i = get_p_given_y(x_i = x_1[0], mu_y = dict_mean_std[('sepal length','mean')][i], std_y = dict_mean_std[('sepal length','std')][i])\n",
    "    p_x1_sw_i = get_p_given_y(x_i = x_1[1], mu_y = dict_mean_std[('sepal width','mean')][i], std_y = dict_mean_std[('sepal width','std')][i])\n",
    "    p_x1_pl_i = get_p_given_y(x_i = x_1[2], mu_y = dict_mean_std[('petal length','mean')][i], std_y = dict_mean_std[('petal length','std')][i])\n",
    "    p_x1_pw_i = get_p_given_y(x_i = x_1[3], mu_y = dict_mean_std[('petal width','mean')][i], std_y = dict_mean_std[('petal width','std')][i])\n",
    "    \n",
    "\n",
    "    p_x1_i = p_x1_sl_i * p_x1_sw_i * p_x1_pl_i * p_x1_pw_i\n",
    "    \n",
    "    p_x1_likelihood_list.append(p_x1_i)\n",
    "p_x1_likelihood_list"
   ]
  },
  {
   "cell_type": "code",
   "execution_count": 105,
   "id": "3902b088-faab-4ba6-ae20-b373e5f31550",
   "metadata": {},
   "outputs": [
    {
     "data": {
      "text/plain": [
       "0.000692788268409689"
      ]
     },
     "execution_count": 105,
     "metadata": {},
     "output_type": "execute_result"
    }
   ],
   "source": [
    "import numpy as np\n"
   ]
  },
  {
   "cell_type": "code",
   "execution_count": 107,
   "id": "cf3798e8-c33b-4b97-9fc1-d822ed39b8d1",
   "metadata": {},
   "outputs": [
    {
     "data": {
      "text/plain": [
       "0.000692788268409689"
      ]
     },
     "execution_count": 107,
     "metadata": {},
     "output_type": "execute_result"
    }
   ],
   "source": [
    "#Evidence from likelihood\n",
    "x1_evidence = sum([i*(1/3) for i in p_x1_likelihood_list])\n",
    "x1_evidence"
   ]
  },
  {
   "cell_type": "code",
   "execution_count": 109,
   "id": "30efe9c7-1f61-4522-9bac-46be6660b2a1",
   "metadata": {},
   "outputs": [
    {
     "data": {
      "text/plain": [
       "[1.0, 1.8320275247564854e-17, 2.7314684572090602e-24]"
      ]
     },
     "execution_count": 109,
     "metadata": {},
     "output_type": "execute_result"
    }
   ],
   "source": [
    "#Posterior\n",
    "[i*(1/3)/x1_evidence for i in p_x1_likelihood_list]# setosa,versicolor, virginica respectively"
   ]
  },
  {
   "cell_type": "code",
   "execution_count": 125,
   "id": "7cc0c0bd-c2af-4a71-840d-dc2e8032955b",
   "metadata": {},
   "outputs": [
    {
     "data": {
      "text/plain": [
       "[1.0, 1.8320275247564854e-17, 2.7314684572090602e-24]"
      ]
     },
     "execution_count": 125,
     "metadata": {},
     "output_type": "execute_result"
    }
   ],
   "source": [
    "#Full automated function\n",
    "def n_b_fn(datainput):\n",
    "    p_x1_likelihood_list = []\n",
    "    for i in range(3):\n",
    "        # How to calculate likelihood\n",
    "        p_x1_sl_i = get_p_given_y(x_i = datainput[0], mu_y = dict_mean_std[('sepal length','mean')][i], std_y = dict_mean_std[('sepal length','std')][i])\n",
    "        p_x1_sw_i = get_p_given_y(x_i = datainput[1], mu_y = dict_mean_std[('sepal width','mean')][i], std_y = dict_mean_std[('sepal width','std')][i])\n",
    "        p_x1_pl_i = get_p_given_y(x_i = datainput[2], mu_y = dict_mean_std[('petal length','mean')][i], std_y = dict_mean_std[('petal length','std')][i])\n",
    "        p_x1_pw_i = get_p_given_y(x_i = datainput[3], mu_y = dict_mean_std[('petal width','mean')][i], std_y = dict_mean_std[('petal width','std')][i])\n",
    "        \n",
    "    \n",
    "        p_x1_i = p_x1_sl_i * p_x1_sw_i * p_x1_pl_i * p_x1_pw_i\n",
    "        \n",
    "        p_x1_likelihood_list.append(p_x1_i)\n",
    "    x1_evidence = sum([i*(1/3) for i in p_x1_likelihood_list])\n",
    "    return [i*(1/3)/x1_evidence for i in p_x1_likelihood_list]# setosa,versicolor, virginica respectively\n",
    "n_b_fn(x_1)\n"
   ]
  },
  {
   "cell_type": "code",
   "execution_count": 111,
   "id": "75d1498b-3710-400b-9a3f-31bbede1a737",
   "metadata": {},
   "outputs": [
    {
     "data": {
      "text/html": [
       "<style>#sk-container-id-1 {\n",
       "  /* Definition of color scheme common for light and dark mode */\n",
       "  --sklearn-color-text: black;\n",
       "  --sklearn-color-line: gray;\n",
       "  /* Definition of color scheme for unfitted estimators */\n",
       "  --sklearn-color-unfitted-level-0: #fff5e6;\n",
       "  --sklearn-color-unfitted-level-1: #f6e4d2;\n",
       "  --sklearn-color-unfitted-level-2: #ffe0b3;\n",
       "  --sklearn-color-unfitted-level-3: chocolate;\n",
       "  /* Definition of color scheme for fitted estimators */\n",
       "  --sklearn-color-fitted-level-0: #f0f8ff;\n",
       "  --sklearn-color-fitted-level-1: #d4ebff;\n",
       "  --sklearn-color-fitted-level-2: #b3dbfd;\n",
       "  --sklearn-color-fitted-level-3: cornflowerblue;\n",
       "\n",
       "  /* Specific color for light theme */\n",
       "  --sklearn-color-text-on-default-background: var(--sg-text-color, var(--theme-code-foreground, var(--jp-content-font-color1, black)));\n",
       "  --sklearn-color-background: var(--sg-background-color, var(--theme-background, var(--jp-layout-color0, white)));\n",
       "  --sklearn-color-border-box: var(--sg-text-color, var(--theme-code-foreground, var(--jp-content-font-color1, black)));\n",
       "  --sklearn-color-icon: #696969;\n",
       "\n",
       "  @media (prefers-color-scheme: dark) {\n",
       "    /* Redefinition of color scheme for dark theme */\n",
       "    --sklearn-color-text-on-default-background: var(--sg-text-color, var(--theme-code-foreground, var(--jp-content-font-color1, white)));\n",
       "    --sklearn-color-background: var(--sg-background-color, var(--theme-background, var(--jp-layout-color0, #111)));\n",
       "    --sklearn-color-border-box: var(--sg-text-color, var(--theme-code-foreground, var(--jp-content-font-color1, white)));\n",
       "    --sklearn-color-icon: #878787;\n",
       "  }\n",
       "}\n",
       "\n",
       "#sk-container-id-1 {\n",
       "  color: var(--sklearn-color-text);\n",
       "}\n",
       "\n",
       "#sk-container-id-1 pre {\n",
       "  padding: 0;\n",
       "}\n",
       "\n",
       "#sk-container-id-1 input.sk-hidden--visually {\n",
       "  border: 0;\n",
       "  clip: rect(1px 1px 1px 1px);\n",
       "  clip: rect(1px, 1px, 1px, 1px);\n",
       "  height: 1px;\n",
       "  margin: -1px;\n",
       "  overflow: hidden;\n",
       "  padding: 0;\n",
       "  position: absolute;\n",
       "  width: 1px;\n",
       "}\n",
       "\n",
       "#sk-container-id-1 div.sk-dashed-wrapped {\n",
       "  border: 1px dashed var(--sklearn-color-line);\n",
       "  margin: 0 0.4em 0.5em 0.4em;\n",
       "  box-sizing: border-box;\n",
       "  padding-bottom: 0.4em;\n",
       "  background-color: var(--sklearn-color-background);\n",
       "}\n",
       "\n",
       "#sk-container-id-1 div.sk-container {\n",
       "  /* jupyter's `normalize.less` sets `[hidden] { display: none; }`\n",
       "     but bootstrap.min.css set `[hidden] { display: none !important; }`\n",
       "     so we also need the `!important` here to be able to override the\n",
       "     default hidden behavior on the sphinx rendered scikit-learn.org.\n",
       "     See: https://github.com/scikit-learn/scikit-learn/issues/21755 */\n",
       "  display: inline-block !important;\n",
       "  position: relative;\n",
       "}\n",
       "\n",
       "#sk-container-id-1 div.sk-text-repr-fallback {\n",
       "  display: none;\n",
       "}\n",
       "\n",
       "div.sk-parallel-item,\n",
       "div.sk-serial,\n",
       "div.sk-item {\n",
       "  /* draw centered vertical line to link estimators */\n",
       "  background-image: linear-gradient(var(--sklearn-color-text-on-default-background), var(--sklearn-color-text-on-default-background));\n",
       "  background-size: 2px 100%;\n",
       "  background-repeat: no-repeat;\n",
       "  background-position: center center;\n",
       "}\n",
       "\n",
       "/* Parallel-specific style estimator block */\n",
       "\n",
       "#sk-container-id-1 div.sk-parallel-item::after {\n",
       "  content: \"\";\n",
       "  width: 100%;\n",
       "  border-bottom: 2px solid var(--sklearn-color-text-on-default-background);\n",
       "  flex-grow: 1;\n",
       "}\n",
       "\n",
       "#sk-container-id-1 div.sk-parallel {\n",
       "  display: flex;\n",
       "  align-items: stretch;\n",
       "  justify-content: center;\n",
       "  background-color: var(--sklearn-color-background);\n",
       "  position: relative;\n",
       "}\n",
       "\n",
       "#sk-container-id-1 div.sk-parallel-item {\n",
       "  display: flex;\n",
       "  flex-direction: column;\n",
       "}\n",
       "\n",
       "#sk-container-id-1 div.sk-parallel-item:first-child::after {\n",
       "  align-self: flex-end;\n",
       "  width: 50%;\n",
       "}\n",
       "\n",
       "#sk-container-id-1 div.sk-parallel-item:last-child::after {\n",
       "  align-self: flex-start;\n",
       "  width: 50%;\n",
       "}\n",
       "\n",
       "#sk-container-id-1 div.sk-parallel-item:only-child::after {\n",
       "  width: 0;\n",
       "}\n",
       "\n",
       "/* Serial-specific style estimator block */\n",
       "\n",
       "#sk-container-id-1 div.sk-serial {\n",
       "  display: flex;\n",
       "  flex-direction: column;\n",
       "  align-items: center;\n",
       "  background-color: var(--sklearn-color-background);\n",
       "  padding-right: 1em;\n",
       "  padding-left: 1em;\n",
       "}\n",
       "\n",
       "\n",
       "/* Toggleable style: style used for estimator/Pipeline/ColumnTransformer box that is\n",
       "clickable and can be expanded/collapsed.\n",
       "- Pipeline and ColumnTransformer use this feature and define the default style\n",
       "- Estimators will overwrite some part of the style using the `sk-estimator` class\n",
       "*/\n",
       "\n",
       "/* Pipeline and ColumnTransformer style (default) */\n",
       "\n",
       "#sk-container-id-1 div.sk-toggleable {\n",
       "  /* Default theme specific background. It is overwritten whether we have a\n",
       "  specific estimator or a Pipeline/ColumnTransformer */\n",
       "  background-color: var(--sklearn-color-background);\n",
       "}\n",
       "\n",
       "/* Toggleable label */\n",
       "#sk-container-id-1 label.sk-toggleable__label {\n",
       "  cursor: pointer;\n",
       "  display: block;\n",
       "  width: 100%;\n",
       "  margin-bottom: 0;\n",
       "  padding: 0.5em;\n",
       "  box-sizing: border-box;\n",
       "  text-align: center;\n",
       "}\n",
       "\n",
       "#sk-container-id-1 label.sk-toggleable__label-arrow:before {\n",
       "  /* Arrow on the left of the label */\n",
       "  content: \"▸\";\n",
       "  float: left;\n",
       "  margin-right: 0.25em;\n",
       "  color: var(--sklearn-color-icon);\n",
       "}\n",
       "\n",
       "#sk-container-id-1 label.sk-toggleable__label-arrow:hover:before {\n",
       "  color: var(--sklearn-color-text);\n",
       "}\n",
       "\n",
       "/* Toggleable content - dropdown */\n",
       "\n",
       "#sk-container-id-1 div.sk-toggleable__content {\n",
       "  max-height: 0;\n",
       "  max-width: 0;\n",
       "  overflow: hidden;\n",
       "  text-align: left;\n",
       "  /* unfitted */\n",
       "  background-color: var(--sklearn-color-unfitted-level-0);\n",
       "}\n",
       "\n",
       "#sk-container-id-1 div.sk-toggleable__content.fitted {\n",
       "  /* fitted */\n",
       "  background-color: var(--sklearn-color-fitted-level-0);\n",
       "}\n",
       "\n",
       "#sk-container-id-1 div.sk-toggleable__content pre {\n",
       "  margin: 0.2em;\n",
       "  border-radius: 0.25em;\n",
       "  color: var(--sklearn-color-text);\n",
       "  /* unfitted */\n",
       "  background-color: var(--sklearn-color-unfitted-level-0);\n",
       "}\n",
       "\n",
       "#sk-container-id-1 div.sk-toggleable__content.fitted pre {\n",
       "  /* unfitted */\n",
       "  background-color: var(--sklearn-color-fitted-level-0);\n",
       "}\n",
       "\n",
       "#sk-container-id-1 input.sk-toggleable__control:checked~div.sk-toggleable__content {\n",
       "  /* Expand drop-down */\n",
       "  max-height: 200px;\n",
       "  max-width: 100%;\n",
       "  overflow: auto;\n",
       "}\n",
       "\n",
       "#sk-container-id-1 input.sk-toggleable__control:checked~label.sk-toggleable__label-arrow:before {\n",
       "  content: \"▾\";\n",
       "}\n",
       "\n",
       "/* Pipeline/ColumnTransformer-specific style */\n",
       "\n",
       "#sk-container-id-1 div.sk-label input.sk-toggleable__control:checked~label.sk-toggleable__label {\n",
       "  color: var(--sklearn-color-text);\n",
       "  background-color: var(--sklearn-color-unfitted-level-2);\n",
       "}\n",
       "\n",
       "#sk-container-id-1 div.sk-label.fitted input.sk-toggleable__control:checked~label.sk-toggleable__label {\n",
       "  background-color: var(--sklearn-color-fitted-level-2);\n",
       "}\n",
       "\n",
       "/* Estimator-specific style */\n",
       "\n",
       "/* Colorize estimator box */\n",
       "#sk-container-id-1 div.sk-estimator input.sk-toggleable__control:checked~label.sk-toggleable__label {\n",
       "  /* unfitted */\n",
       "  background-color: var(--sklearn-color-unfitted-level-2);\n",
       "}\n",
       "\n",
       "#sk-container-id-1 div.sk-estimator.fitted input.sk-toggleable__control:checked~label.sk-toggleable__label {\n",
       "  /* fitted */\n",
       "  background-color: var(--sklearn-color-fitted-level-2);\n",
       "}\n",
       "\n",
       "#sk-container-id-1 div.sk-label label.sk-toggleable__label,\n",
       "#sk-container-id-1 div.sk-label label {\n",
       "  /* The background is the default theme color */\n",
       "  color: var(--sklearn-color-text-on-default-background);\n",
       "}\n",
       "\n",
       "/* On hover, darken the color of the background */\n",
       "#sk-container-id-1 div.sk-label:hover label.sk-toggleable__label {\n",
       "  color: var(--sklearn-color-text);\n",
       "  background-color: var(--sklearn-color-unfitted-level-2);\n",
       "}\n",
       "\n",
       "/* Label box, darken color on hover, fitted */\n",
       "#sk-container-id-1 div.sk-label.fitted:hover label.sk-toggleable__label.fitted {\n",
       "  color: var(--sklearn-color-text);\n",
       "  background-color: var(--sklearn-color-fitted-level-2);\n",
       "}\n",
       "\n",
       "/* Estimator label */\n",
       "\n",
       "#sk-container-id-1 div.sk-label label {\n",
       "  font-family: monospace;\n",
       "  font-weight: bold;\n",
       "  display: inline-block;\n",
       "  line-height: 1.2em;\n",
       "}\n",
       "\n",
       "#sk-container-id-1 div.sk-label-container {\n",
       "  text-align: center;\n",
       "}\n",
       "\n",
       "/* Estimator-specific */\n",
       "#sk-container-id-1 div.sk-estimator {\n",
       "  font-family: monospace;\n",
       "  border: 1px dotted var(--sklearn-color-border-box);\n",
       "  border-radius: 0.25em;\n",
       "  box-sizing: border-box;\n",
       "  margin-bottom: 0.5em;\n",
       "  /* unfitted */\n",
       "  background-color: var(--sklearn-color-unfitted-level-0);\n",
       "}\n",
       "\n",
       "#sk-container-id-1 div.sk-estimator.fitted {\n",
       "  /* fitted */\n",
       "  background-color: var(--sklearn-color-fitted-level-0);\n",
       "}\n",
       "\n",
       "/* on hover */\n",
       "#sk-container-id-1 div.sk-estimator:hover {\n",
       "  /* unfitted */\n",
       "  background-color: var(--sklearn-color-unfitted-level-2);\n",
       "}\n",
       "\n",
       "#sk-container-id-1 div.sk-estimator.fitted:hover {\n",
       "  /* fitted */\n",
       "  background-color: var(--sklearn-color-fitted-level-2);\n",
       "}\n",
       "\n",
       "/* Specification for estimator info (e.g. \"i\" and \"?\") */\n",
       "\n",
       "/* Common style for \"i\" and \"?\" */\n",
       "\n",
       ".sk-estimator-doc-link,\n",
       "a:link.sk-estimator-doc-link,\n",
       "a:visited.sk-estimator-doc-link {\n",
       "  float: right;\n",
       "  font-size: smaller;\n",
       "  line-height: 1em;\n",
       "  font-family: monospace;\n",
       "  background-color: var(--sklearn-color-background);\n",
       "  border-radius: 1em;\n",
       "  height: 1em;\n",
       "  width: 1em;\n",
       "  text-decoration: none !important;\n",
       "  margin-left: 1ex;\n",
       "  /* unfitted */\n",
       "  border: var(--sklearn-color-unfitted-level-1) 1pt solid;\n",
       "  color: var(--sklearn-color-unfitted-level-1);\n",
       "}\n",
       "\n",
       ".sk-estimator-doc-link.fitted,\n",
       "a:link.sk-estimator-doc-link.fitted,\n",
       "a:visited.sk-estimator-doc-link.fitted {\n",
       "  /* fitted */\n",
       "  border: var(--sklearn-color-fitted-level-1) 1pt solid;\n",
       "  color: var(--sklearn-color-fitted-level-1);\n",
       "}\n",
       "\n",
       "/* On hover */\n",
       "div.sk-estimator:hover .sk-estimator-doc-link:hover,\n",
       ".sk-estimator-doc-link:hover,\n",
       "div.sk-label-container:hover .sk-estimator-doc-link:hover,\n",
       ".sk-estimator-doc-link:hover {\n",
       "  /* unfitted */\n",
       "  background-color: var(--sklearn-color-unfitted-level-3);\n",
       "  color: var(--sklearn-color-background);\n",
       "  text-decoration: none;\n",
       "}\n",
       "\n",
       "div.sk-estimator.fitted:hover .sk-estimator-doc-link.fitted:hover,\n",
       ".sk-estimator-doc-link.fitted:hover,\n",
       "div.sk-label-container:hover .sk-estimator-doc-link.fitted:hover,\n",
       ".sk-estimator-doc-link.fitted:hover {\n",
       "  /* fitted */\n",
       "  background-color: var(--sklearn-color-fitted-level-3);\n",
       "  color: var(--sklearn-color-background);\n",
       "  text-decoration: none;\n",
       "}\n",
       "\n",
       "/* Span, style for the box shown on hovering the info icon */\n",
       ".sk-estimator-doc-link span {\n",
       "  display: none;\n",
       "  z-index: 9999;\n",
       "  position: relative;\n",
       "  font-weight: normal;\n",
       "  right: .2ex;\n",
       "  padding: .5ex;\n",
       "  margin: .5ex;\n",
       "  width: min-content;\n",
       "  min-width: 20ex;\n",
       "  max-width: 50ex;\n",
       "  color: var(--sklearn-color-text);\n",
       "  box-shadow: 2pt 2pt 4pt #999;\n",
       "  /* unfitted */\n",
       "  background: var(--sklearn-color-unfitted-level-0);\n",
       "  border: .5pt solid var(--sklearn-color-unfitted-level-3);\n",
       "}\n",
       "\n",
       ".sk-estimator-doc-link.fitted span {\n",
       "  /* fitted */\n",
       "  background: var(--sklearn-color-fitted-level-0);\n",
       "  border: var(--sklearn-color-fitted-level-3);\n",
       "}\n",
       "\n",
       ".sk-estimator-doc-link:hover span {\n",
       "  display: block;\n",
       "}\n",
       "\n",
       "/* \"?\"-specific style due to the `<a>` HTML tag */\n",
       "\n",
       "#sk-container-id-1 a.estimator_doc_link {\n",
       "  float: right;\n",
       "  font-size: 1rem;\n",
       "  line-height: 1em;\n",
       "  font-family: monospace;\n",
       "  background-color: var(--sklearn-color-background);\n",
       "  border-radius: 1rem;\n",
       "  height: 1rem;\n",
       "  width: 1rem;\n",
       "  text-decoration: none;\n",
       "  /* unfitted */\n",
       "  color: var(--sklearn-color-unfitted-level-1);\n",
       "  border: var(--sklearn-color-unfitted-level-1) 1pt solid;\n",
       "}\n",
       "\n",
       "#sk-container-id-1 a.estimator_doc_link.fitted {\n",
       "  /* fitted */\n",
       "  border: var(--sklearn-color-fitted-level-1) 1pt solid;\n",
       "  color: var(--sklearn-color-fitted-level-1);\n",
       "}\n",
       "\n",
       "/* On hover */\n",
       "#sk-container-id-1 a.estimator_doc_link:hover {\n",
       "  /* unfitted */\n",
       "  background-color: var(--sklearn-color-unfitted-level-3);\n",
       "  color: var(--sklearn-color-background);\n",
       "  text-decoration: none;\n",
       "}\n",
       "\n",
       "#sk-container-id-1 a.estimator_doc_link.fitted:hover {\n",
       "  /* fitted */\n",
       "  background-color: var(--sklearn-color-fitted-level-3);\n",
       "}\n",
       "</style><div id=\"sk-container-id-1\" class=\"sk-top-container\"><div class=\"sk-text-repr-fallback\"><pre>GaussianNB()</pre><b>In a Jupyter environment, please rerun this cell to show the HTML representation or trust the notebook. <br />On GitHub, the HTML representation is unable to render, please try loading this page with nbviewer.org.</b></div><div class=\"sk-container\" hidden><div class=\"sk-item\"><div class=\"sk-estimator fitted sk-toggleable\"><input class=\"sk-toggleable__control sk-hidden--visually\" id=\"sk-estimator-id-1\" type=\"checkbox\" checked><label for=\"sk-estimator-id-1\" class=\"sk-toggleable__label fitted sk-toggleable__label-arrow fitted\">&nbsp;&nbsp;GaussianNB<a class=\"sk-estimator-doc-link fitted\" rel=\"noreferrer\" target=\"_blank\" href=\"https://scikit-learn.org/1.4/modules/generated/sklearn.naive_bayes.GaussianNB.html\">?<span>Documentation for GaussianNB</span></a><span class=\"sk-estimator-doc-link fitted\">i<span>Fitted</span></span></label><div class=\"sk-toggleable__content fitted\"><pre>GaussianNB()</pre></div> </div></div></div></div>"
      ],
      "text/plain": [
       "GaussianNB()"
      ]
     },
     "execution_count": 111,
     "metadata": {},
     "output_type": "execute_result"
    }
   ],
   "source": [
    "from sklearn.naive_bayes import GaussianNB\n",
    "gnb = GaussianNB()\n",
    "gnb.fit(X,y)"
   ]
  },
  {
   "cell_type": "code",
   "execution_count": 113,
   "id": "34e56ce6-c86c-4a1a-b9b2-6de481412ef6",
   "metadata": {},
   "outputs": [
    {
     "data": {
      "text/plain": [
       "[5.1, 3.5, 1.4, 0.2]"
      ]
     },
     "execution_count": 113,
     "metadata": {},
     "output_type": "execute_result"
    }
   ],
   "source": [
    "x_1"
   ]
  },
  {
   "cell_type": "code",
   "execution_count": 118,
   "id": "d2794986-e9ba-4d17-a95b-b844093b33c5",
   "metadata": {},
   "outputs": [
    {
     "name": "stdout",
     "output_type": "stream",
     "text": [
      "[[1.00000000e+00 1.38496103e-18 7.25489025e-26]]\n",
      "['Iris-setosa']\n"
     ]
    },
    {
     "name": "stderr",
     "output_type": "stream",
     "text": [
      "/Users/tchun/opt/anaconda3/envs/carparts/lib/python3.9/site-packages/sklearn/base.py:493: UserWarning: X does not have valid feature names, but GaussianNB was fitted with feature names\n",
      "  warnings.warn(\n",
      "/Users/tchun/opt/anaconda3/envs/carparts/lib/python3.9/site-packages/sklearn/base.py:493: UserWarning: X does not have valid feature names, but GaussianNB was fitted with feature names\n",
      "  warnings.warn(\n"
     ]
    }
   ],
   "source": [
    "print(gnb.predict_proba(np.array([x_1])))\n",
    "print(gnb.predict(np.array([x_1])))"
   ]
  },
  {
   "cell_type": "code",
   "execution_count": 135,
   "id": "3db982cd-d799-404d-91bc-9683d735844e",
   "metadata": {},
   "outputs": [
    {
     "name": "stdout",
     "output_type": "stream",
     "text": [
      "[3.7681410221024236e-107, 0.6621266580020119, 0.33787334199798813]\n",
      "[1.0098743931588455e-99, 0.8888921455990317, 0.11110785440096829]\n",
      "[4.533497482429522e-121, 0.29254966140087074, 0.7074503385991293]\n",
      "[9.150166405567126e-70, 0.999921734341772, 7.826565822792809e-05]\n",
      "[1.947061201138275e-105, 0.9025979632776301, 0.09740203672236995]\n",
      "[1.3945051343924268e-89, 0.9979398117860291, 0.002060188213970815]\n",
      "[6.373775633111082e-113, 0.48369394268885596, 0.516306057311144]\n",
      "[9.824858718334024e-35, 0.9999993557700907, 6.442299092970441e-07]\n",
      "[4.587746236197247e-97, 0.9786333619169608, 0.021366638083039107]\n",
      "[5.315669054635867e-69, 0.999778714932676, 0.0002212850673240241]\n"
     ]
    }
   ],
   "source": [
    "# n_b_fn()\n",
    "for i in range(50,60,1):\n",
    "    print(n_b_fn(X.iloc[i].to_list()))\n"
   ]
  },
  {
   "cell_type": "code",
   "execution_count": 136,
   "id": "8509af82-b046-429a-b253-a7570ba4de8c",
   "metadata": {},
   "outputs": [
    {
     "data": {
      "text/plain": [
       "array([[1.87127931e-108, 8.04037666e-001, 1.95962334e-001],\n",
       "       [6.18854779e-101, 9.45169639e-001, 5.48303606e-002],\n",
       "       [1.52821825e-122, 4.56151317e-001, 5.43848683e-001],\n",
       "       [2.14997261e-070, 9.99968751e-001, 3.12488556e-005],\n",
       "       [9.04938222e-107, 9.52441811e-001, 4.75581888e-002],\n",
       "       [1.29272979e-090, 9.99119627e-001, 8.80372565e-004],\n",
       "       [2.72490532e-114, 6.58952285e-001, 3.41047715e-001],\n",
       "       [1.19734767e-034, 9.99999767e-001, 2.33206910e-007],\n",
       "       [3.02545627e-098, 9.90316309e-001, 9.68369084e-003],\n",
       "       [1.29477666e-069, 9.99909746e-001, 9.02536083e-005]])"
      ]
     },
     "execution_count": 136,
     "metadata": {},
     "output_type": "execute_result"
    }
   ],
   "source": [
    "gnb.predict_proba(X.iloc[50:60])"
   ]
  },
  {
   "cell_type": "code",
   "execution_count": 139,
   "id": "a5ec0f61-6808-482f-b96c-8027a092addd",
   "metadata": {
    "scrolled": true
   },
   "outputs": [
    {
     "data": {
      "text/plain": [
       "[0,\n",
       " 0,\n",
       " 0,\n",
       " 0,\n",
       " 0,\n",
       " 0,\n",
       " 0,\n",
       " 0,\n",
       " 0,\n",
       " 0,\n",
       " 0,\n",
       " 0,\n",
       " 0,\n",
       " 0,\n",
       " 0,\n",
       " 0,\n",
       " 0,\n",
       " 0,\n",
       " 0,\n",
       " 0,\n",
       " 0,\n",
       " 0,\n",
       " 0,\n",
       " 0,\n",
       " 0,\n",
       " 0,\n",
       " 0,\n",
       " 0,\n",
       " 0,\n",
       " 0,\n",
       " 0,\n",
       " 0,\n",
       " 0,\n",
       " 0,\n",
       " 0,\n",
       " 0,\n",
       " 0,\n",
       " 0,\n",
       " 0,\n",
       " 0,\n",
       " 0,\n",
       " 0,\n",
       " 0,\n",
       " 0,\n",
       " 0,\n",
       " 0,\n",
       " 0,\n",
       " 0,\n",
       " 0,\n",
       " 0,\n",
       " 1,\n",
       " 1,\n",
       " 2,\n",
       " 1,\n",
       " 1,\n",
       " 1,\n",
       " 2,\n",
       " 1,\n",
       " 1,\n",
       " 1,\n",
       " 1,\n",
       " 1,\n",
       " 1,\n",
       " 1,\n",
       " 1,\n",
       " 1,\n",
       " 1,\n",
       " 1,\n",
       " 1,\n",
       " 1,\n",
       " 2,\n",
       " 1,\n",
       " 1,\n",
       " 1,\n",
       " 1,\n",
       " 1,\n",
       " 1,\n",
       " 2,\n",
       " 1,\n",
       " 1,\n",
       " 1,\n",
       " 1,\n",
       " 1,\n",
       " 2,\n",
       " 1,\n",
       " 1,\n",
       " 1,\n",
       " 1,\n",
       " 1,\n",
       " 1,\n",
       " 1,\n",
       " 1,\n",
       " 1,\n",
       " 1,\n",
       " 1,\n",
       " 1,\n",
       " 1,\n",
       " 1,\n",
       " 1,\n",
       " 1,\n",
       " 2,\n",
       " 2,\n",
       " 2,\n",
       " 2,\n",
       " 2,\n",
       " 2,\n",
       " 1,\n",
       " 2,\n",
       " 2,\n",
       " 2,\n",
       " 2,\n",
       " 2,\n",
       " 2,\n",
       " 2,\n",
       " 2,\n",
       " 2,\n",
       " 2,\n",
       " 2,\n",
       " 2,\n",
       " 1,\n",
       " 2,\n",
       " 2,\n",
       " 2,\n",
       " 2,\n",
       " 2,\n",
       " 2,\n",
       " 2,\n",
       " 2,\n",
       " 2,\n",
       " 2,\n",
       " 2,\n",
       " 2,\n",
       " 2,\n",
       " 1,\n",
       " 2,\n",
       " 2,\n",
       " 2,\n",
       " 2,\n",
       " 2,\n",
       " 2,\n",
       " 2,\n",
       " 2,\n",
       " 2,\n",
       " 2,\n",
       " 2,\n",
       " 2,\n",
       " 2,\n",
       " 2,\n",
       " 2,\n",
       " 2]"
      ]
     },
     "execution_count": 139,
     "metadata": {},
     "output_type": "execute_result"
    }
   ],
   "source": [
    "result_fn_list=[]\n",
    "for i in range(X.shape[0]):\n",
    "    result_fn_list.append(np.argmax(n_b_fn(X.iloc[i].to_list())))\n",
    "result_fn_list "
   ]
  },
  {
   "cell_type": "code",
   "execution_count": 146,
   "id": "305423b3-850e-4baa-aecb-07ea6e4a0097",
   "metadata": {},
   "outputs": [],
   "source": [
    "import pandas as pd\n",
    "\n",
    "df = pd.DataFrame({'fn':result_fn_list,'sk':np.argmax(gnb.predict_proba(X),axis=1)})"
   ]
  },
  {
   "cell_type": "code",
   "execution_count": 152,
   "id": "bbae6a3f-4d40-4e43-89da-2b11260af29d",
   "metadata": {},
   "outputs": [
    {
     "data": {
      "text/html": [
       "<div>\n",
       "<style scoped>\n",
       "    .dataframe tbody tr th:only-of-type {\n",
       "        vertical-align: middle;\n",
       "    }\n",
       "\n",
       "    .dataframe tbody tr th {\n",
       "        vertical-align: top;\n",
       "    }\n",
       "\n",
       "    .dataframe thead th {\n",
       "        text-align: right;\n",
       "    }\n",
       "</style>\n",
       "<table border=\"1\" class=\"dataframe\">\n",
       "  <thead>\n",
       "    <tr style=\"text-align: right;\">\n",
       "      <th></th>\n",
       "      <th>fn</th>\n",
       "      <th>sk</th>\n",
       "    </tr>\n",
       "  </thead>\n",
       "  <tbody>\n",
       "    <tr>\n",
       "      <th>56</th>\n",
       "      <td>2</td>\n",
       "      <td>1</td>\n",
       "    </tr>\n",
       "    <tr>\n",
       "      <th>83</th>\n",
       "      <td>2</td>\n",
       "      <td>1</td>\n",
       "    </tr>\n",
       "  </tbody>\n",
       "</table>\n",
       "</div>"
      ],
      "text/plain": [
       "    fn  sk\n",
       "56   2   1\n",
       "83   2   1"
      ]
     },
     "execution_count": 152,
     "metadata": {},
     "output_type": "execute_result"
    }
   ],
   "source": [
    "df.loc[(df.fn!=df.sk),:]"
   ]
  },
  {
   "cell_type": "code",
   "execution_count": 186,
   "id": "f36aea58-d9a8-4baf-9730-b7a14cce3e50",
   "metadata": {},
   "outputs": [
    {
     "data": {
      "text/plain": [
       "array(['Iris-setosa', 'Iris-versicolor', 'Iris-virginica'], dtype=object)"
      ]
     },
     "execution_count": 186,
     "metadata": {},
     "output_type": "execute_result"
    }
   ],
   "source": [
    "y.unique()"
   ]
  },
  {
   "cell_type": "code",
   "execution_count": 192,
   "id": "9557f9da-8291-46d1-8231-12d9ce9455cb",
   "metadata": {},
   "outputs": [
    {
     "data": {
      "text/plain": [
       "0         Iris-setosa\n",
       "1         Iris-setosa\n",
       "2         Iris-setosa\n",
       "3         Iris-setosa\n",
       "4         Iris-setosa\n",
       "            ...      \n",
       "145    Iris-virginica\n",
       "146    Iris-virginica\n",
       "147    Iris-virginica\n",
       "148    Iris-virginica\n",
       "149    Iris-virginica\n",
       "Length: 150, dtype: object"
      ]
     },
     "execution_count": 192,
     "metadata": {},
     "output_type": "execute_result"
    }
   ],
   "source": []
  },
  {
   "cell_type": "code",
   "execution_count": 194,
   "id": "747784c7-ab7d-4a90-a973-98a6fe423224",
   "metadata": {},
   "outputs": [
    {
     "name": "stdout",
     "output_type": "stream",
     "text": [
      "                 precision    recall  f1-score   support\n",
      "\n",
      "    Iris-setosa       1.00      1.00      1.00        50\n",
      "Iris-versicolor       0.94      0.90      0.92        50\n",
      " Iris-virginica       0.90      0.94      0.92        50\n",
      "\n",
      "       accuracy                           0.95       150\n",
      "      macro avg       0.95      0.95      0.95       150\n",
      "   weighted avg       0.95      0.95      0.95       150\n",
      "\n"
     ]
    }
   ],
   "source": [
    "from sklearn.metrics import classification_report\n",
    "print(classification_report(y,\n",
    "                      pd.Series(['Iris-setosa' if i == 0 else 'Iris-versicolor' if i == 1 else 'Iris-virginica' for i in result_fn_list])\n",
    "                     ))"
   ]
  },
  {
   "cell_type": "code",
   "execution_count": 166,
   "id": "e9663547-f346-4fe3-9751-a919ff70e178",
   "metadata": {},
   "outputs": [
    {
     "name": "stdout",
     "output_type": "stream",
     "text": [
      "[[2.72490532e-114 6.58952285e-001 3.41047715e-001]\n",
      " [2.61124821e-134 6.12159845e-001 3.87840155e-001]]\n",
      "[6.373775633111082e-113, 0.48369394268885596, 0.516306057311144]\n",
      "[1.4826900011043284e-132, 0.4345203925241147, 0.5654796074758853]\n"
     ]
    }
   ],
   "source": [
    "print(gnb.predict_proba(X.iloc[[56,83],:]))\n",
    "for i in range(56,84,1):\n",
    "    if i in (56,83):\n",
    "        print(n_b_fn(X.iloc[i].to_list()))"
   ]
  },
  {
   "cell_type": "markdown",
   "id": "e124f605-98ec-4199-913a-3bf5316791bd",
   "metadata": {},
   "source": [
    "### What if our dataset is binary case?"
   ]
  },
  {
   "cell_type": "code",
   "execution_count": 181,
   "id": "4cff32f6-7754-4ed8-a61c-2691d2c19b85",
   "metadata": {},
   "outputs": [],
   "source": [
    "X2 = X.assign(\n",
    "    sl = X['sepal length']>5.843333,\n",
    "    sw = X['sepal width']>3.054000,\n",
    "    pl = X['petal length']>3.758667,\n",
    "    pw = X['petal width']>1.198667\n",
    ")[['sl','sw','pl','pw']]\n",
    "iris2 = pd.concat([X2,y],axis=1)"
   ]
  },
  {
   "cell_type": "code",
   "execution_count": 182,
   "id": "1b556ff0-e2ce-4ce8-978e-9623fa25ee93",
   "metadata": {},
   "outputs": [
    {
     "data": {
      "text/html": [
       "<div>\n",
       "<style scoped>\n",
       "    .dataframe tbody tr th:only-of-type {\n",
       "        vertical-align: middle;\n",
       "    }\n",
       "\n",
       "    .dataframe tbody tr th {\n",
       "        vertical-align: top;\n",
       "    }\n",
       "\n",
       "    .dataframe thead th {\n",
       "        text-align: right;\n",
       "    }\n",
       "</style>\n",
       "<table border=\"1\" class=\"dataframe\">\n",
       "  <thead>\n",
       "    <tr style=\"text-align: right;\">\n",
       "      <th></th>\n",
       "      <th>sl</th>\n",
       "      <th>sw</th>\n",
       "      <th>pl</th>\n",
       "      <th>pw</th>\n",
       "      <th>class</th>\n",
       "    </tr>\n",
       "  </thead>\n",
       "  <tbody>\n",
       "    <tr>\n",
       "      <th>0</th>\n",
       "      <td>False</td>\n",
       "      <td>True</td>\n",
       "      <td>False</td>\n",
       "      <td>False</td>\n",
       "      <td>Iris-setosa</td>\n",
       "    </tr>\n",
       "    <tr>\n",
       "      <th>1</th>\n",
       "      <td>False</td>\n",
       "      <td>False</td>\n",
       "      <td>False</td>\n",
       "      <td>False</td>\n",
       "      <td>Iris-setosa</td>\n",
       "    </tr>\n",
       "  </tbody>\n",
       "</table>\n",
       "</div>"
      ],
      "text/plain": [
       "      sl     sw     pl     pw        class\n",
       "0  False   True  False  False  Iris-setosa\n",
       "1  False  False  False  False  Iris-setosa"
      ]
     },
     "execution_count": 182,
     "metadata": {},
     "output_type": "execute_result"
    }
   ],
   "source": [
    "iris2.head(2) #Ture = large, False = small"
   ]
  },
  {
   "cell_type": "code",
   "execution_count": 185,
   "id": "0d51e020-858a-4a0a-937a-7b157d6c2b83",
   "metadata": {},
   "outputs": [
    {
     "data": {
      "text/html": [
       "<div>\n",
       "<style scoped>\n",
       "    .dataframe tbody tr th:only-of-type {\n",
       "        vertical-align: middle;\n",
       "    }\n",
       "\n",
       "    .dataframe tbody tr th {\n",
       "        vertical-align: top;\n",
       "    }\n",
       "\n",
       "    .dataframe thead th {\n",
       "        text-align: right;\n",
       "    }\n",
       "</style>\n",
       "<table border=\"1\" class=\"dataframe\">\n",
       "  <thead>\n",
       "    <tr style=\"text-align: right;\">\n",
       "      <th></th>\n",
       "      <th>sl</th>\n",
       "      <th>sw</th>\n",
       "      <th>pl</th>\n",
       "      <th>pw</th>\n",
       "    </tr>\n",
       "    <tr>\n",
       "      <th>class</th>\n",
       "      <th></th>\n",
       "      <th></th>\n",
       "      <th></th>\n",
       "      <th></th>\n",
       "    </tr>\n",
       "  </thead>\n",
       "  <tbody>\n",
       "    <tr>\n",
       "      <th>Iris-setosa</th>\n",
       "      <td>0</td>\n",
       "      <td>42</td>\n",
       "      <td>0</td>\n",
       "      <td>0</td>\n",
       "    </tr>\n",
       "    <tr>\n",
       "      <th>Iris-versicolor</th>\n",
       "      <td>26</td>\n",
       "      <td>8</td>\n",
       "      <td>43</td>\n",
       "      <td>40</td>\n",
       "    </tr>\n",
       "    <tr>\n",
       "      <th>Iris-virginica</th>\n",
       "      <td>44</td>\n",
       "      <td>17</td>\n",
       "      <td>50</td>\n",
       "      <td>50</td>\n",
       "    </tr>\n",
       "  </tbody>\n",
       "</table>\n",
       "</div>"
      ],
      "text/plain": [
       "                 sl  sw  pl  pw\n",
       "class                          \n",
       "Iris-setosa       0  42   0   0\n",
       "Iris-versicolor  26   8  43  40\n",
       "Iris-virginica   44  17  50  50"
      ]
     },
     "execution_count": 185,
     "metadata": {},
     "output_type": "execute_result"
    }
   ],
   "source": [
    "iris2.groupby('class').sum()"
   ]
  },
  {
   "cell_type": "code",
   "execution_count": 199,
   "id": "2f18289b-b3cf-4a8c-9fca-fd1e215d5f45",
   "metadata": {},
   "outputs": [
    {
     "data": {
      "text/plain": [
       "sl    70\n",
       "sw    67\n",
       "pl    93\n",
       "pw    90\n",
       "dtype: int64"
      ]
     },
     "execution_count": 199,
     "metadata": {},
     "output_type": "execute_result"
    }
   ],
   "source": [
    "iris2.groupby('class').sum().sum(axis=0)"
   ]
  },
  {
   "cell_type": "markdown",
   "id": "f07837f5-7622-4a60-81a7-d7b4e1183f24",
   "metadata": {},
   "source": [
    "## Math in binary dataset.\n",
    "### Likelihood <br>\n",
    "For binary case, we want to calculate $ P(x|y) $ same as continuous variables. <br>\n",
    "Again we want to calculate each of class' likelihood. First class would be: <br>\n",
    "$ P(x|y=class1) = \\prod_{i=1}^{n} P(x_i|y=class1) $ <br>\n",
    "Here, $ P(x_i|y=class1) $ will be same as above by multiplying by all probabilities of each feature being true. <br>\n",
    "Because this is binary, we can simply get their proportion of being true in each feature in each class. <br>\n",
    "If we have a dataset indicate one feature is being true, we apply the observed proportion and if it's false, we use 1-proportion. <br>\n",
    "Then, finally multiply all the probabilities of all features to get the specific class being. <br>\n",
    "$ \\theta_{x=i}^{y=j} =  \\frac{N_{i,j}}{N_{y_j}} =  \\frac{\\text{number of times feature } X_i \\text{ is 1 in class } y}{\\text{total number of samples in class } y} $\n",
    "<br>\n",
    "P(x|y) = $\\prod P(x_i|y_j)$ where $\\theta_{i,j}$ when $x_i = 1$, $ 1 - \\theta_{i,j} \\text{ when } x_i = 0$\n",
    "\n",
    "### Evidence <br>\n",
    "Will be the same.\n",
    "\n",
    "### Posterior <br>\n",
    "will be the same.\n"
   ]
  },
  {
   "cell_type": "code",
   "execution_count": 227,
   "id": "42451e3c-8bd1-431b-a882-03ebb9f589b0",
   "metadata": {},
   "outputs": [],
   "source": [
    "p_c1,p_c2,p_c3 = [1/3]*3\n",
    "# 70, 67,93,90\n",
    "'''\n",
    "            \tsl\tsw\tpl\tpw\n",
    "Iris-setosa \t0\t42\t0\t0\n",
    "Iris-versicolor\t26\t8\t43\t40\n",
    "Iris-virginica\t44\t17\t50\t50\n",
    "'''\n",
    "\n",
    "t_f1_y1 = 0/50\n",
    "t_f2_y1 = 42/50\n",
    "t_f3_y1 = 0/50\n",
    "t_f4_y1 = 0/50\n",
    "\n",
    "t_f1_y2 = 26 / 50\n",
    "t_f2_y2 = 8 / 50\n",
    "t_f3_y2 = 43 / 50\n",
    "t_f4_y2 = 40 / 50\n",
    "\n",
    "t_f1_y3 = 44 / 50\n",
    "t_f2_y3 = 17 / 50\n",
    "t_f3_y3 = 50 / 50\n",
    "t_f4_y3 = 50 / 50\n"
   ]
  },
  {
   "cell_type": "code",
   "execution_count": 240,
   "id": "98c98090-36d4-4f83-bfea-0b7c63b3e458",
   "metadata": {},
   "outputs": [],
   "source": [
    "import warnings\n",
    "warnings.filterwarnings('ignore')\n",
    "def binary_likelihood(datainput):\n",
    "    p_f1_y1 = t_f1_y1 if datainput[0] == True else (1-t_f1_y1)\n",
    "    p_f1_y2 = t_f1_y2 if datainput[0] == True else (1-t_f1_y2)\n",
    "    p_f1_y3 = t_f1_y3 if datainput[0] == True else (1-t_f1_y3)\n",
    "\n",
    "    p_f2_y1 = t_f2_y1 if datainput[1] == True else (1-t_f2_y1)\n",
    "    p_f2_y2 = t_f2_y2 if datainput[1] == True else (1-t_f2_y2)\n",
    "    p_f2_y3 = t_f2_y3 if datainput[1] == True else (1-t_f2_y3)\n",
    "    \n",
    "    p_f3_y1 = t_f3_y1 if datainput[2] == True else (1-t_f3_y1)\n",
    "    p_f3_y2 = t_f3_y2 if datainput[2] == True else (1-t_f3_y2)\n",
    "    p_f3_y3 = t_f3_y3 if datainput[2] == True else (1-t_f3_y3)\n",
    "    \n",
    "    p_f4_y1 = t_f4_y1 if datainput[3] == True else (1-t_f4_y1)\n",
    "    p_f4_y2 = t_f4_y2 if datainput[3] == True else (1-t_f4_y2)\n",
    "    p_f4_y3 = t_f4_y3 if datainput[3] == True else (1-t_f4_y3)\n",
    "\n",
    "    p_f_y1 = p_f1_y1 * p_f2_y1 * p_f3_y1 * p_f4_y1\n",
    "    p_f_y2 = p_f1_y2 * p_f2_y2 * p_f3_y2 * p_f4_y2\n",
    "    p_f_y3 = p_f1_y3 * p_f2_y3 * p_f3_y3 * p_f4_y3\n",
    "    # print(p_f1_y1 , p_f2_y1 , p_f3_y1 , p_f4_y1)\n",
    "    return [p_f_y1,p_f_y2,p_f_y3]\n",
    "\n",
    "binary_likelihood_list = binary_likelihood(X2.iloc[1].to_list())"
   ]
  },
  {
   "cell_type": "code",
   "execution_count": 241,
   "id": "0db98471-79ea-4a2e-a995-89194eec3aba",
   "metadata": {},
   "outputs": [
    {
     "data": {
      "text/plain": [
       "[False, False, False, False]"
      ]
     },
     "execution_count": 241,
     "metadata": {},
     "output_type": "execute_result"
    }
   ],
   "source": [
    "X2.iloc[1].to_list()"
   ]
  },
  {
   "cell_type": "code",
   "execution_count": 242,
   "id": "5e9325a9-168b-4309-9623-32b30bb15731",
   "metadata": {},
   "outputs": [
    {
     "data": {
      "text/plain": [
       "0.057096533333333345"
      ]
     },
     "execution_count": 242,
     "metadata": {},
     "output_type": "execute_result"
    }
   ],
   "source": [
    "#Evidence from likelihood\n",
    "binary_evidence = sum([i*(1/3) for i in binary_likelihood_list])\n",
    "binary_evidence"
   ]
  },
  {
   "cell_type": "code",
   "execution_count": 243,
   "id": "a105d971-1673-4f0d-8c95-5f7e56331728",
   "metadata": {},
   "outputs": [
    {
     "data": {
      "text/plain": [
       "[0.9340905694216111, 0.06590943057838884, 0.0]"
      ]
     },
     "execution_count": 243,
     "metadata": {},
     "output_type": "execute_result"
    }
   ],
   "source": [
    "[i*(1/3)/binary_evidence for i in binary_likelihood_list] "
   ]
  },
  {
   "cell_type": "code",
   "execution_count": 244,
   "id": "4c4e0fc3-8aa2-4092-b03e-5e97ed4f90a2",
   "metadata": {},
   "outputs": [
    {
     "data": {
      "text/plain": [
       "[0.9340905694216111, 0.06590943057838884, 0.0]"
      ]
     },
     "execution_count": 244,
     "metadata": {},
     "output_type": "execute_result"
    }
   ],
   "source": [
    "def binary_nb(datainput):\n",
    "    binary_likelihood_list = binary_likelihood(datainput)\n",
    "    return [i*(1/3)/binary_evidence for i in binary_likelihood_list] \n",
    "    \n",
    "binary_nb(X2.iloc[1])"
   ]
  },
  {
   "cell_type": "code",
   "execution_count": 245,
   "id": "aa94f576-ded6-47ab-bf9e-e42405c48c76",
   "metadata": {},
   "outputs": [
    {
     "data": {
      "text/html": [
       "<style>#sk-container-id-4 {\n",
       "  /* Definition of color scheme common for light and dark mode */\n",
       "  --sklearn-color-text: black;\n",
       "  --sklearn-color-line: gray;\n",
       "  /* Definition of color scheme for unfitted estimators */\n",
       "  --sklearn-color-unfitted-level-0: #fff5e6;\n",
       "  --sklearn-color-unfitted-level-1: #f6e4d2;\n",
       "  --sklearn-color-unfitted-level-2: #ffe0b3;\n",
       "  --sklearn-color-unfitted-level-3: chocolate;\n",
       "  /* Definition of color scheme for fitted estimators */\n",
       "  --sklearn-color-fitted-level-0: #f0f8ff;\n",
       "  --sklearn-color-fitted-level-1: #d4ebff;\n",
       "  --sklearn-color-fitted-level-2: #b3dbfd;\n",
       "  --sklearn-color-fitted-level-3: cornflowerblue;\n",
       "\n",
       "  /* Specific color for light theme */\n",
       "  --sklearn-color-text-on-default-background: var(--sg-text-color, var(--theme-code-foreground, var(--jp-content-font-color1, black)));\n",
       "  --sklearn-color-background: var(--sg-background-color, var(--theme-background, var(--jp-layout-color0, white)));\n",
       "  --sklearn-color-border-box: var(--sg-text-color, var(--theme-code-foreground, var(--jp-content-font-color1, black)));\n",
       "  --sklearn-color-icon: #696969;\n",
       "\n",
       "  @media (prefers-color-scheme: dark) {\n",
       "    /* Redefinition of color scheme for dark theme */\n",
       "    --sklearn-color-text-on-default-background: var(--sg-text-color, var(--theme-code-foreground, var(--jp-content-font-color1, white)));\n",
       "    --sklearn-color-background: var(--sg-background-color, var(--theme-background, var(--jp-layout-color0, #111)));\n",
       "    --sklearn-color-border-box: var(--sg-text-color, var(--theme-code-foreground, var(--jp-content-font-color1, white)));\n",
       "    --sklearn-color-icon: #878787;\n",
       "  }\n",
       "}\n",
       "\n",
       "#sk-container-id-4 {\n",
       "  color: var(--sklearn-color-text);\n",
       "}\n",
       "\n",
       "#sk-container-id-4 pre {\n",
       "  padding: 0;\n",
       "}\n",
       "\n",
       "#sk-container-id-4 input.sk-hidden--visually {\n",
       "  border: 0;\n",
       "  clip: rect(1px 1px 1px 1px);\n",
       "  clip: rect(1px, 1px, 1px, 1px);\n",
       "  height: 1px;\n",
       "  margin: -1px;\n",
       "  overflow: hidden;\n",
       "  padding: 0;\n",
       "  position: absolute;\n",
       "  width: 1px;\n",
       "}\n",
       "\n",
       "#sk-container-id-4 div.sk-dashed-wrapped {\n",
       "  border: 1px dashed var(--sklearn-color-line);\n",
       "  margin: 0 0.4em 0.5em 0.4em;\n",
       "  box-sizing: border-box;\n",
       "  padding-bottom: 0.4em;\n",
       "  background-color: var(--sklearn-color-background);\n",
       "}\n",
       "\n",
       "#sk-container-id-4 div.sk-container {\n",
       "  /* jupyter's `normalize.less` sets `[hidden] { display: none; }`\n",
       "     but bootstrap.min.css set `[hidden] { display: none !important; }`\n",
       "     so we also need the `!important` here to be able to override the\n",
       "     default hidden behavior on the sphinx rendered scikit-learn.org.\n",
       "     See: https://github.com/scikit-learn/scikit-learn/issues/21755 */\n",
       "  display: inline-block !important;\n",
       "  position: relative;\n",
       "}\n",
       "\n",
       "#sk-container-id-4 div.sk-text-repr-fallback {\n",
       "  display: none;\n",
       "}\n",
       "\n",
       "div.sk-parallel-item,\n",
       "div.sk-serial,\n",
       "div.sk-item {\n",
       "  /* draw centered vertical line to link estimators */\n",
       "  background-image: linear-gradient(var(--sklearn-color-text-on-default-background), var(--sklearn-color-text-on-default-background));\n",
       "  background-size: 2px 100%;\n",
       "  background-repeat: no-repeat;\n",
       "  background-position: center center;\n",
       "}\n",
       "\n",
       "/* Parallel-specific style estimator block */\n",
       "\n",
       "#sk-container-id-4 div.sk-parallel-item::after {\n",
       "  content: \"\";\n",
       "  width: 100%;\n",
       "  border-bottom: 2px solid var(--sklearn-color-text-on-default-background);\n",
       "  flex-grow: 1;\n",
       "}\n",
       "\n",
       "#sk-container-id-4 div.sk-parallel {\n",
       "  display: flex;\n",
       "  align-items: stretch;\n",
       "  justify-content: center;\n",
       "  background-color: var(--sklearn-color-background);\n",
       "  position: relative;\n",
       "}\n",
       "\n",
       "#sk-container-id-4 div.sk-parallel-item {\n",
       "  display: flex;\n",
       "  flex-direction: column;\n",
       "}\n",
       "\n",
       "#sk-container-id-4 div.sk-parallel-item:first-child::after {\n",
       "  align-self: flex-end;\n",
       "  width: 50%;\n",
       "}\n",
       "\n",
       "#sk-container-id-4 div.sk-parallel-item:last-child::after {\n",
       "  align-self: flex-start;\n",
       "  width: 50%;\n",
       "}\n",
       "\n",
       "#sk-container-id-4 div.sk-parallel-item:only-child::after {\n",
       "  width: 0;\n",
       "}\n",
       "\n",
       "/* Serial-specific style estimator block */\n",
       "\n",
       "#sk-container-id-4 div.sk-serial {\n",
       "  display: flex;\n",
       "  flex-direction: column;\n",
       "  align-items: center;\n",
       "  background-color: var(--sklearn-color-background);\n",
       "  padding-right: 1em;\n",
       "  padding-left: 1em;\n",
       "}\n",
       "\n",
       "\n",
       "/* Toggleable style: style used for estimator/Pipeline/ColumnTransformer box that is\n",
       "clickable and can be expanded/collapsed.\n",
       "- Pipeline and ColumnTransformer use this feature and define the default style\n",
       "- Estimators will overwrite some part of the style using the `sk-estimator` class\n",
       "*/\n",
       "\n",
       "/* Pipeline and ColumnTransformer style (default) */\n",
       "\n",
       "#sk-container-id-4 div.sk-toggleable {\n",
       "  /* Default theme specific background. It is overwritten whether we have a\n",
       "  specific estimator or a Pipeline/ColumnTransformer */\n",
       "  background-color: var(--sklearn-color-background);\n",
       "}\n",
       "\n",
       "/* Toggleable label */\n",
       "#sk-container-id-4 label.sk-toggleable__label {\n",
       "  cursor: pointer;\n",
       "  display: block;\n",
       "  width: 100%;\n",
       "  margin-bottom: 0;\n",
       "  padding: 0.5em;\n",
       "  box-sizing: border-box;\n",
       "  text-align: center;\n",
       "}\n",
       "\n",
       "#sk-container-id-4 label.sk-toggleable__label-arrow:before {\n",
       "  /* Arrow on the left of the label */\n",
       "  content: \"▸\";\n",
       "  float: left;\n",
       "  margin-right: 0.25em;\n",
       "  color: var(--sklearn-color-icon);\n",
       "}\n",
       "\n",
       "#sk-container-id-4 label.sk-toggleable__label-arrow:hover:before {\n",
       "  color: var(--sklearn-color-text);\n",
       "}\n",
       "\n",
       "/* Toggleable content - dropdown */\n",
       "\n",
       "#sk-container-id-4 div.sk-toggleable__content {\n",
       "  max-height: 0;\n",
       "  max-width: 0;\n",
       "  overflow: hidden;\n",
       "  text-align: left;\n",
       "  /* unfitted */\n",
       "  background-color: var(--sklearn-color-unfitted-level-0);\n",
       "}\n",
       "\n",
       "#sk-container-id-4 div.sk-toggleable__content.fitted {\n",
       "  /* fitted */\n",
       "  background-color: var(--sklearn-color-fitted-level-0);\n",
       "}\n",
       "\n",
       "#sk-container-id-4 div.sk-toggleable__content pre {\n",
       "  margin: 0.2em;\n",
       "  border-radius: 0.25em;\n",
       "  color: var(--sklearn-color-text);\n",
       "  /* unfitted */\n",
       "  background-color: var(--sklearn-color-unfitted-level-0);\n",
       "}\n",
       "\n",
       "#sk-container-id-4 div.sk-toggleable__content.fitted pre {\n",
       "  /* unfitted */\n",
       "  background-color: var(--sklearn-color-fitted-level-0);\n",
       "}\n",
       "\n",
       "#sk-container-id-4 input.sk-toggleable__control:checked~div.sk-toggleable__content {\n",
       "  /* Expand drop-down */\n",
       "  max-height: 200px;\n",
       "  max-width: 100%;\n",
       "  overflow: auto;\n",
       "}\n",
       "\n",
       "#sk-container-id-4 input.sk-toggleable__control:checked~label.sk-toggleable__label-arrow:before {\n",
       "  content: \"▾\";\n",
       "}\n",
       "\n",
       "/* Pipeline/ColumnTransformer-specific style */\n",
       "\n",
       "#sk-container-id-4 div.sk-label input.sk-toggleable__control:checked~label.sk-toggleable__label {\n",
       "  color: var(--sklearn-color-text);\n",
       "  background-color: var(--sklearn-color-unfitted-level-2);\n",
       "}\n",
       "\n",
       "#sk-container-id-4 div.sk-label.fitted input.sk-toggleable__control:checked~label.sk-toggleable__label {\n",
       "  background-color: var(--sklearn-color-fitted-level-2);\n",
       "}\n",
       "\n",
       "/* Estimator-specific style */\n",
       "\n",
       "/* Colorize estimator box */\n",
       "#sk-container-id-4 div.sk-estimator input.sk-toggleable__control:checked~label.sk-toggleable__label {\n",
       "  /* unfitted */\n",
       "  background-color: var(--sklearn-color-unfitted-level-2);\n",
       "}\n",
       "\n",
       "#sk-container-id-4 div.sk-estimator.fitted input.sk-toggleable__control:checked~label.sk-toggleable__label {\n",
       "  /* fitted */\n",
       "  background-color: var(--sklearn-color-fitted-level-2);\n",
       "}\n",
       "\n",
       "#sk-container-id-4 div.sk-label label.sk-toggleable__label,\n",
       "#sk-container-id-4 div.sk-label label {\n",
       "  /* The background is the default theme color */\n",
       "  color: var(--sklearn-color-text-on-default-background);\n",
       "}\n",
       "\n",
       "/* On hover, darken the color of the background */\n",
       "#sk-container-id-4 div.sk-label:hover label.sk-toggleable__label {\n",
       "  color: var(--sklearn-color-text);\n",
       "  background-color: var(--sklearn-color-unfitted-level-2);\n",
       "}\n",
       "\n",
       "/* Label box, darken color on hover, fitted */\n",
       "#sk-container-id-4 div.sk-label.fitted:hover label.sk-toggleable__label.fitted {\n",
       "  color: var(--sklearn-color-text);\n",
       "  background-color: var(--sklearn-color-fitted-level-2);\n",
       "}\n",
       "\n",
       "/* Estimator label */\n",
       "\n",
       "#sk-container-id-4 div.sk-label label {\n",
       "  font-family: monospace;\n",
       "  font-weight: bold;\n",
       "  display: inline-block;\n",
       "  line-height: 1.2em;\n",
       "}\n",
       "\n",
       "#sk-container-id-4 div.sk-label-container {\n",
       "  text-align: center;\n",
       "}\n",
       "\n",
       "/* Estimator-specific */\n",
       "#sk-container-id-4 div.sk-estimator {\n",
       "  font-family: monospace;\n",
       "  border: 1px dotted var(--sklearn-color-border-box);\n",
       "  border-radius: 0.25em;\n",
       "  box-sizing: border-box;\n",
       "  margin-bottom: 0.5em;\n",
       "  /* unfitted */\n",
       "  background-color: var(--sklearn-color-unfitted-level-0);\n",
       "}\n",
       "\n",
       "#sk-container-id-4 div.sk-estimator.fitted {\n",
       "  /* fitted */\n",
       "  background-color: var(--sklearn-color-fitted-level-0);\n",
       "}\n",
       "\n",
       "/* on hover */\n",
       "#sk-container-id-4 div.sk-estimator:hover {\n",
       "  /* unfitted */\n",
       "  background-color: var(--sklearn-color-unfitted-level-2);\n",
       "}\n",
       "\n",
       "#sk-container-id-4 div.sk-estimator.fitted:hover {\n",
       "  /* fitted */\n",
       "  background-color: var(--sklearn-color-fitted-level-2);\n",
       "}\n",
       "\n",
       "/* Specification for estimator info (e.g. \"i\" and \"?\") */\n",
       "\n",
       "/* Common style for \"i\" and \"?\" */\n",
       "\n",
       ".sk-estimator-doc-link,\n",
       "a:link.sk-estimator-doc-link,\n",
       "a:visited.sk-estimator-doc-link {\n",
       "  float: right;\n",
       "  font-size: smaller;\n",
       "  line-height: 1em;\n",
       "  font-family: monospace;\n",
       "  background-color: var(--sklearn-color-background);\n",
       "  border-radius: 1em;\n",
       "  height: 1em;\n",
       "  width: 1em;\n",
       "  text-decoration: none !important;\n",
       "  margin-left: 1ex;\n",
       "  /* unfitted */\n",
       "  border: var(--sklearn-color-unfitted-level-1) 1pt solid;\n",
       "  color: var(--sklearn-color-unfitted-level-1);\n",
       "}\n",
       "\n",
       ".sk-estimator-doc-link.fitted,\n",
       "a:link.sk-estimator-doc-link.fitted,\n",
       "a:visited.sk-estimator-doc-link.fitted {\n",
       "  /* fitted */\n",
       "  border: var(--sklearn-color-fitted-level-1) 1pt solid;\n",
       "  color: var(--sklearn-color-fitted-level-1);\n",
       "}\n",
       "\n",
       "/* On hover */\n",
       "div.sk-estimator:hover .sk-estimator-doc-link:hover,\n",
       ".sk-estimator-doc-link:hover,\n",
       "div.sk-label-container:hover .sk-estimator-doc-link:hover,\n",
       ".sk-estimator-doc-link:hover {\n",
       "  /* unfitted */\n",
       "  background-color: var(--sklearn-color-unfitted-level-3);\n",
       "  color: var(--sklearn-color-background);\n",
       "  text-decoration: none;\n",
       "}\n",
       "\n",
       "div.sk-estimator.fitted:hover .sk-estimator-doc-link.fitted:hover,\n",
       ".sk-estimator-doc-link.fitted:hover,\n",
       "div.sk-label-container:hover .sk-estimator-doc-link.fitted:hover,\n",
       ".sk-estimator-doc-link.fitted:hover {\n",
       "  /* fitted */\n",
       "  background-color: var(--sklearn-color-fitted-level-3);\n",
       "  color: var(--sklearn-color-background);\n",
       "  text-decoration: none;\n",
       "}\n",
       "\n",
       "/* Span, style for the box shown on hovering the info icon */\n",
       ".sk-estimator-doc-link span {\n",
       "  display: none;\n",
       "  z-index: 9999;\n",
       "  position: relative;\n",
       "  font-weight: normal;\n",
       "  right: .2ex;\n",
       "  padding: .5ex;\n",
       "  margin: .5ex;\n",
       "  width: min-content;\n",
       "  min-width: 20ex;\n",
       "  max-width: 50ex;\n",
       "  color: var(--sklearn-color-text);\n",
       "  box-shadow: 2pt 2pt 4pt #999;\n",
       "  /* unfitted */\n",
       "  background: var(--sklearn-color-unfitted-level-0);\n",
       "  border: .5pt solid var(--sklearn-color-unfitted-level-3);\n",
       "}\n",
       "\n",
       ".sk-estimator-doc-link.fitted span {\n",
       "  /* fitted */\n",
       "  background: var(--sklearn-color-fitted-level-0);\n",
       "  border: var(--sklearn-color-fitted-level-3);\n",
       "}\n",
       "\n",
       ".sk-estimator-doc-link:hover span {\n",
       "  display: block;\n",
       "}\n",
       "\n",
       "/* \"?\"-specific style due to the `<a>` HTML tag */\n",
       "\n",
       "#sk-container-id-4 a.estimator_doc_link {\n",
       "  float: right;\n",
       "  font-size: 1rem;\n",
       "  line-height: 1em;\n",
       "  font-family: monospace;\n",
       "  background-color: var(--sklearn-color-background);\n",
       "  border-radius: 1rem;\n",
       "  height: 1rem;\n",
       "  width: 1rem;\n",
       "  text-decoration: none;\n",
       "  /* unfitted */\n",
       "  color: var(--sklearn-color-unfitted-level-1);\n",
       "  border: var(--sklearn-color-unfitted-level-1) 1pt solid;\n",
       "}\n",
       "\n",
       "#sk-container-id-4 a.estimator_doc_link.fitted {\n",
       "  /* fitted */\n",
       "  border: var(--sklearn-color-fitted-level-1) 1pt solid;\n",
       "  color: var(--sklearn-color-fitted-level-1);\n",
       "}\n",
       "\n",
       "/* On hover */\n",
       "#sk-container-id-4 a.estimator_doc_link:hover {\n",
       "  /* unfitted */\n",
       "  background-color: var(--sklearn-color-unfitted-level-3);\n",
       "  color: var(--sklearn-color-background);\n",
       "  text-decoration: none;\n",
       "}\n",
       "\n",
       "#sk-container-id-4 a.estimator_doc_link.fitted:hover {\n",
       "  /* fitted */\n",
       "  background-color: var(--sklearn-color-fitted-level-3);\n",
       "}\n",
       "</style><div id=\"sk-container-id-4\" class=\"sk-top-container\"><div class=\"sk-text-repr-fallback\"><pre>BernoulliNB()</pre><b>In a Jupyter environment, please rerun this cell to show the HTML representation or trust the notebook. <br />On GitHub, the HTML representation is unable to render, please try loading this page with nbviewer.org.</b></div><div class=\"sk-container\" hidden><div class=\"sk-item\"><div class=\"sk-estimator fitted sk-toggleable\"><input class=\"sk-toggleable__control sk-hidden--visually\" id=\"sk-estimator-id-4\" type=\"checkbox\" checked><label for=\"sk-estimator-id-4\" class=\"sk-toggleable__label fitted sk-toggleable__label-arrow fitted\">&nbsp;&nbsp;BernoulliNB<a class=\"sk-estimator-doc-link fitted\" rel=\"noreferrer\" target=\"_blank\" href=\"https://scikit-learn.org/1.4/modules/generated/sklearn.naive_bayes.BernoulliNB.html\">?<span>Documentation for BernoulliNB</span></a><span class=\"sk-estimator-doc-link fitted\">i<span>Fitted</span></span></label><div class=\"sk-toggleable__content fitted\"><pre>BernoulliNB()</pre></div> </div></div></div></div>"
      ],
      "text/plain": [
       "BernoulliNB()"
      ]
     },
     "execution_count": 245,
     "metadata": {},
     "output_type": "execute_result"
    }
   ],
   "source": [
    "from sklearn.naive_bayes import BernoulliNB\n",
    "bnb = BernoulliNB()\n",
    "bnb.fit(X2,y)"
   ]
  },
  {
   "cell_type": "code",
   "execution_count": 246,
   "id": "7916901a-9d52-4e25-bec0-a8e9b7317b7c",
   "metadata": {},
   "outputs": [
    {
     "data": {
      "text/plain": [
       "array([[9.26407837e-01, 7.34074806e-02, 1.84682668e-04]])"
      ]
     },
     "execution_count": 246,
     "metadata": {},
     "output_type": "execute_result"
    }
   ],
   "source": [
    "bnb.predict_proba(X2.iloc[[1]])"
   ]
  },
  {
   "cell_type": "code",
   "execution_count": 249,
   "id": "6cd9688a-4597-44bb-b9e6-0f7af5ec27e6",
   "metadata": {},
   "outputs": [],
   "source": [
    "fn_result_list=[]\n",
    "for i in range(150):\n",
    "    fn_result_list.append(\n",
    "        np.argmax(binary_nb(X2.iloc[i].to_list()))\n",
    "    )"
   ]
  },
  {
   "cell_type": "code",
   "execution_count": 257,
   "id": "44318488-9798-45ec-bc94-85a8cb0f7f48",
   "metadata": {},
   "outputs": [],
   "source": [
    "df_binary_compare = pd.DataFrame({'pred':pd.Series(fn_result_list),'pred_m':np.argmax(bnb.predict_proba(X2),axis=1)})"
   ]
  },
  {
   "cell_type": "code",
   "execution_count": 260,
   "id": "b05da015-8ff4-40f4-9121-731ca3632ce9",
   "metadata": {},
   "outputs": [
    {
     "name": "stdout",
     "output_type": "stream",
     "text": [
      "                 precision    recall  f1-score   support\n",
      "\n",
      "    Iris-setosa       0.89      1.00      0.94        50\n",
      "Iris-versicolor       0.76      0.38      0.51        50\n",
      " Iris-virginica       0.64      0.88      0.74        50\n",
      "\n",
      "       accuracy                           0.75       150\n",
      "      macro avg       0.76      0.75      0.73       150\n",
      "   weighted avg       0.76      0.75      0.73       150\n",
      "\n"
     ]
    }
   ],
   "source": [
    "from sklearn.metrics import classification_report\n",
    "print(classification_report(y,\n",
    "                      pd.Series(['Iris-setosa' if i == 0 else 'Iris-versicolor' if i == 1 else 'Iris-virginica' for i in fn_result_list])\n",
    "                     ))"
   ]
  }
 ],
 "metadata": {
  "kernelspec": {
   "display_name": "carparts",
   "language": "python",
   "name": "carparts"
  },
  "language_info": {
   "codemirror_mode": {
    "name": "ipython",
    "version": 3
   },
   "file_extension": ".py",
   "mimetype": "text/x-python",
   "name": "python",
   "nbconvert_exporter": "python",
   "pygments_lexer": "ipython3",
   "version": "3.9.19"
  }
 },
 "nbformat": 4,
 "nbformat_minor": 5
}
